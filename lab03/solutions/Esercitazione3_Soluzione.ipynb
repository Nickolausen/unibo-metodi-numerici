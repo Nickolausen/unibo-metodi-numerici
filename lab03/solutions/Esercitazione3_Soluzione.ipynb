{
 "cells": [
  {
   "cell_type": "markdown",
   "id": "2f16cd51-b728-47c0-b39e-f22777b738f3",
   "metadata": {},
   "source": [
    "# Esercitazione 4 Marzo 2025 - Soluzione"
   ]
  },
  {
   "cell_type": "markdown",
   "id": "cea7be83-908f-4132-b3df-6eb9633855a9",
   "metadata": {},
   "source": [
    "## Esercizio 1\n",
    "- Costruire due array numpy-array 2d di dimensione 5000x5000 i cui valori sono campionati da una distribuzione gaussiana con media 0 e varianza 1.\n",
    "- Effetuare la somma tra le due matrici con due metodi:\n",
    "        utilizzando le operazioni vettoriali \n",
    "        considerando due cicli espliciti annidati, su righe e colonne\n",
    "- Confrontare le prestazioni in termini di tempo di esecuzione\n",
    "        \n"
   ]
  },
  {
   "cell_type": "code",
   "execution_count": 46,
   "id": "3fdb2856-45d6-4a50-a709-ba94407ddb8d",
   "metadata": {
    "tags": []
   },
   "outputs": [
    {
     "name": "stdout",
     "output_type": "stream",
     "text": [
      "Tempo C=A+B  0.03989980000187643\n"
     ]
    }
   ],
   "source": [
    "import numpy as np\n",
    "import time\n",
    "A=np.random.randn(5000,5000)\n",
    "B=np.random.randn(5000,5000)\n",
    "start=time.perf_counter()\n",
    "C=A+B\n",
    "end =time.perf_counter()\n",
    "print(\"Tempo C=A+B \",end-start) "
   ]
  },
  {
   "cell_type": "code",
   "execution_count": 47,
   "id": "08b8ba42-d9ad-4cd0-a6a4-78913e4c315b",
   "metadata": {
    "tags": []
   },
   "outputs": [
    {
     "name": "stdout",
     "output_type": "stream",
     "text": [
      "Tempo sviluppando i cicli  12.786683700003778\n"
     ]
    }
   ],
   "source": [
    "start=time.perf_counter()\n",
    "F=np.zeros_like(A)\n",
    "for i in range(5000):\n",
    "    for j in range(5000):\n",
    "        F[i,j]=A[i,j]+B[i,j]\n",
    " \n",
    "end =time.perf_counter()\n",
    "print(\"Tempo sviluppando i cicli \",end-start)         \n",
    "        "
   ]
  },
  {
   "cell_type": "markdown",
   "id": "2cc104af-5376-4b18-9945-9316885a30ed",
   "metadata": {},
   "source": [
    "## Esercizio 2\n",
    "-      Costruire il numpy array  s  formato da 40 valori equidistanti in  [0,20],\n",
    "\n",
    " -      considerarne il reshape in un array 2d che ha 4 righe con un numero opportuno di colonne e dire se il reshape crea una vista o una copia"
   ]
  },
  {
   "cell_type": "code",
   "execution_count": 48,
   "id": "40f58744-9344-4719-8695-30f8af276076",
   "metadata": {
    "tags": []
   },
   "outputs": [
    {
     "name": "stdout",
     "output_type": "stream",
     "text": [
      "s= [ 0.          0.51282051  1.02564103  1.53846154  2.05128205  2.56410256\n",
      "  3.07692308  3.58974359  4.1025641   4.61538462  5.12820513  5.64102564\n",
      "  6.15384615  6.66666667  7.17948718  7.69230769  8.20512821  8.71794872\n",
      "  9.23076923  9.74358974 10.25641026 10.76923077 11.28205128 11.79487179\n",
      " 12.30769231 12.82051282 13.33333333 13.84615385 14.35897436 14.87179487\n",
      " 15.38461538 15.8974359  16.41025641 16.92307692 17.43589744 17.94871795\n",
      " 18.46153846 18.97435897 19.48717949 20.        ]\n",
      "[ 0.          0.51282051  1.02564103  1.53846154  2.05128205  2.56410256\n",
      "  3.07692308  3.58974359  4.1025641   4.61538462  5.12820513  5.64102564\n",
      "  6.15384615  6.66666667  7.17948718  7.69230769  8.20512821  8.71794872\n",
      "  9.23076923  9.74358974 10.25641026 10.76923077 11.28205128 11.79487179\n",
      " 12.30769231 12.82051282 13.33333333 13.84615385 14.35897436 14.87179487\n",
      " 15.38461538 15.8974359  16.41025641 16.92307692 17.43589744 17.94871795\n",
      " 18.46153846 18.97435897 19.48717949 20.        ]\n"
     ]
    }
   ],
   "source": [
    "s=np.linspace(0,20,40)\n",
    "b=s.reshape(4,-1)\n",
    "print(\"s=\",s)\n",
    "print(b.base)\n",
    "#il metodo .reshape() restituisce una \n",
    "#vista dell'array originale con una nuova forma, \n",
    "#senza creare una copia dei dati dell'array, \n",
    "#ma condividendoli con l'array originale.(infatti l'attributo base punta ai valori di s)"
   ]
  },
  {
   "cell_type": "markdown",
   "id": "14ce2807-7ab1-4a05-b375-e7c3cd3ad9b4",
   "metadata": {},
   "source": [
    "## Esercizio 3\n",
    "-     Costruire il numpy array t formato da 100 valori equidistanti in  [0,4]\n",
    "-     considerarne il reshape in un array 2d che ha 4 colonne con un numero opportuno di righe"
   ]
  },
  {
   "cell_type": "code",
   "execution_count": 49,
   "id": "1e7391bc-6cd9-4562-8e1e-9b317adad29a",
   "metadata": {
    "tags": []
   },
   "outputs": [
    {
     "name": "stdout",
     "output_type": "stream",
     "text": [
      "[[0.         0.04040404 0.08080808 0.12121212]\n",
      " [0.16161616 0.2020202  0.24242424 0.28282828]\n",
      " [0.32323232 0.36363636 0.4040404  0.44444444]\n",
      " [0.48484848 0.52525253 0.56565657 0.60606061]\n",
      " [0.64646465 0.68686869 0.72727273 0.76767677]\n",
      " [0.80808081 0.84848485 0.88888889 0.92929293]\n",
      " [0.96969697 1.01010101 1.05050505 1.09090909]\n",
      " [1.13131313 1.17171717 1.21212121 1.25252525]\n",
      " [1.29292929 1.33333333 1.37373737 1.41414141]\n",
      " [1.45454545 1.49494949 1.53535354 1.57575758]\n",
      " [1.61616162 1.65656566 1.6969697  1.73737374]\n",
      " [1.77777778 1.81818182 1.85858586 1.8989899 ]\n",
      " [1.93939394 1.97979798 2.02020202 2.06060606]\n",
      " [2.1010101  2.14141414 2.18181818 2.22222222]\n",
      " [2.26262626 2.3030303  2.34343434 2.38383838]\n",
      " [2.42424242 2.46464646 2.50505051 2.54545455]\n",
      " [2.58585859 2.62626263 2.66666667 2.70707071]\n",
      " [2.74747475 2.78787879 2.82828283 2.86868687]\n",
      " [2.90909091 2.94949495 2.98989899 3.03030303]\n",
      " [3.07070707 3.11111111 3.15151515 3.19191919]\n",
      " [3.23232323 3.27272727 3.31313131 3.35353535]\n",
      " [3.39393939 3.43434343 3.47474747 3.51515152]\n",
      " [3.55555556 3.5959596  3.63636364 3.67676768]\n",
      " [3.71717172 3.75757576 3.7979798  3.83838384]\n",
      " [3.87878788 3.91919192 3.95959596 4.        ]]\n"
     ]
    }
   ],
   "source": [
    "t=np.linspace(0,4,100)\n",
    "q=t.reshape(-1,4)\n",
    "print(q)"
   ]
  },
  {
   "cell_type": "markdown",
   "id": "497ccc48-1ab8-4247-8e36-0c61e43c643c",
   "metadata": {},
   "source": [
    "## Esercizio 4\n",
    "Costruire il numpy array 1d C  di valori che variano tra 15 e 41 con step 2\n",
    "\n",
    "-     Trasformarlo in un numpy array 2d con shape(7,2) usando il metodo . resize(7,2)  che lavora in-place,  (cioè  modifica l'array esistente, non è necessario creare una copia).  "
   ]
  },
  {
   "cell_type": "code",
   "execution_count": 52,
   "id": "398fdd65-9b83-4f13-9c3b-cfea193081f2",
   "metadata": {
    "tags": []
   },
   "outputs": [
    {
     "name": "stdout",
     "output_type": "stream",
     "text": [
      "(7, 2)\n"
     ]
    }
   ],
   "source": [
    "C=np.arange(15,42,2)\n",
    "C.resize((7,2))\n",
    "print(C.shape)"
   ]
  },
  {
   "cell_type": "markdown",
   "id": "222a582d-184b-47b9-804b-72673a42102e",
   "metadata": {},
   "source": [
    " ## Esercizio 5\n",
    " Creare un array NumPy di 10 numeri interi casuali tra 1 e 100.\n",
    " "
   ]
  },
  {
   "cell_type": "code",
   "execution_count": 53,
   "id": "bc3b09ce-536d-4ee0-b62d-5ad6b8f5c4f5",
   "metadata": {
    "tags": []
   },
   "outputs": [
    {
     "name": "stdout",
     "output_type": "stream",
     "text": [
      "[96 29 60 34  9 54 82 41 64 26]\n"
     ]
    }
   ],
   "source": [
    "array_interi = np.random.randint(1, 100, 10)\n",
    "print(array_interi)"
   ]
  },
  {
   "cell_type": "markdown",
   "id": "26b0aef0-fa88-4ec5-923f-8fa9d0664044",
   "metadata": {},
   "source": [
    "## Esercizio 6\n",
    "  Eseguire uno shuffle degli elementi di un array di 30 numeri interi casuali tra 100 e 200.\n"
   ]
  },
  {
   "cell_type": "code",
   "execution_count": 54,
   "id": "f32af715-9567-4f4e-aab0-35a291bbcc6a",
   "metadata": {
    "tags": []
   },
   "outputs": [
    {
     "name": "stdout",
     "output_type": "stream",
     "text": [
      "[184 100 152 155 151 195 164 135 106 136 120 106 113 146 184 124 188 196\n",
      " 165 138 192 103 172 145 121 169 198 180 176 101]\n",
      "[195 176 184 172 198 103 165 101 124 188 106 192 164 146 138 135 100 136\n",
      " 113 120 184 152 151 106 145 155 180 121 196 169]\n"
     ]
    }
   ],
   "source": [
    "array_shuffle = np.random.randint(100, 200, 30)\n",
    "print(array_shuffle)\n",
    "np.random.shuffle(array_shuffle)\n",
    "print(array_shuffle)"
   ]
  },
  {
   "cell_type": "markdown",
   "id": "9e1c800f-6ae8-41cc-94c0-c36445e2ea55",
   "metadata": {},
   "source": [
    " ## Esercizio 7\n",
    " Creare una permutazione casuale degli elementi di un array senza modificarlo."
   ]
  },
  {
   "cell_type": "code",
   "execution_count": 55,
   "id": "bb60c2e2-5ce8-4294-943d-a8d9e1244f22",
   "metadata": {
    "tags": []
   },
   "outputs": [
    {
     "name": "stdout",
     "output_type": "stream",
     "text": [
      "[150 193 155 195 124 134 181 127 121 168 171 165 116 145 187 149 142 132\n",
      " 197 180 153 171 128 122 116 198 183 142 161 143]\n",
      "[161 121 116 153 142 149 116 124 195 155 181 132 150 143 134 171 122 171\n",
      " 127 128 193 183 197 198 145 142 168 180 165 187]\n"
     ]
    }
   ],
   "source": [
    "array = np.random.randint(100, 200, 30)\n",
    "array_perm=np.random.permutation(array)\n",
    "print(array_perm)\n",
    "print(array)"
   ]
  },
  {
   "cell_type": "markdown",
   "id": "14fa94ab-ffd5-425a-8a18-f1b6d53bc87b",
   "metadata": {},
   "source": [
    "## Esercizio 8\n",
    "-     Scrivere il numpy  array 2d, A, [[10,11,12],[13,14,15],[16,17,18]] \n",
    "-     trasformarlo in un numpy array 1d usando il metodo .ravel()  \n",
    "-     Si tratta di una copia o di una vista?"
   ]
  },
  {
   "cell_type": "code",
   "execution_count": 56,
   "id": "2017a239-1c19-4166-bd5f-10f4bf05998b",
   "metadata": {
    "tags": []
   },
   "outputs": [
    {
     "name": "stdout",
     "output_type": "stream",
     "text": [
      "[10 11 12 13 14 15 16 17 18]\n",
      "[[10 11 12]\n",
      " [13 14 15]\n",
      " [16 17 18]]\n"
     ]
    }
   ],
   "source": [
    "A=np.array([[10,11,12],[13,14,15],[16,17,18]])\n",
    "a=A.ravel()  #ravel crea una vista\n",
    "print(a)\n",
    "print(a.base)            "
   ]
  },
  {
   "cell_type": "markdown",
   "id": "8cef420c-3ee7-487a-b872-83c1460e11fe",
   "metadata": {},
   "source": [
    "## Esercizio 9\n",
    "-     Scrivere il numpy  array 2d, A, [[10,11,12],[13,14,15],[16,17,18]] \n",
    "-     trasformarlo in un numpy array 1d usando il metodo  .flatten().\n",
    "-     Si tratta di una copia o di una vista?"
   ]
  },
  {
   "cell_type": "code",
   "execution_count": 57,
   "id": "fcfcdc49-d76c-40bc-9fb0-768d0658422d",
   "metadata": {
    "tags": []
   },
   "outputs": [
    {
     "name": "stdout",
     "output_type": "stream",
     "text": [
      "[10 11 12 13 14 15 16 17 18]\n",
      "None\n"
     ]
    }
   ],
   "source": [
    "B=np.array([[10,11,12],[13,14,15],[16,17,18]])\n",
    "a=B.flatten()  #flatten crea una copia\n",
    "print(a)\n",
    "print(a.base)  #restituisce un puntatore ai valori di B"
   ]
  },
  {
   "cell_type": "markdown",
   "id": "a0b881a4-1836-4e2a-83aa-e03f4398feb5",
   "metadata": {},
   "source": [
    "## Esercizio 10\n",
    "\n",
    "-     creare i due  numpy array 1d\n",
    "        f1= [ 0  1  2  3  4  5  6  7  8  9 10 11 12 13 14 15]  \n",
    "        f2= [16 17 18 19 20 21 22 23 24 25 26 27 28 29 30 31]\n",
    "-     \"vederli\" come matrici  4x4 ed effettuarne il prodotto scalare, memorizzando in f3 la matrice che nasce dal loro prodotto."
   ]
  },
  {
   "cell_type": "code",
   "execution_count": 58,
   "id": "714f3299-2b89-45f9-a386-3b90dabcd290",
   "metadata": {
    "tags": []
   },
   "outputs": [
    {
     "name": "stdout",
     "output_type": "stream",
     "text": [
      "[[ 152  158  164  170]\n",
      " [ 504  526  548  570]\n",
      " [ 856  894  932  970]\n",
      " [1208 1262 1316 1370]]\n"
     ]
    }
   ],
   "source": [
    "f1=np.arange(16)\n",
    "f2=np.arange(16,32)\n",
    "c=f1.reshape(4,4)@f2.reshape(4,4)\n",
    "print(c)"
   ]
  },
  {
   "cell_type": "markdown",
   "id": "681aca16-584c-451f-b9da-cba4b11faa5e",
   "metadata": {},
   "source": [
    "## Esercizio 11\n",
    "Costruire:\n",
    "-      Numpy Array A di shape (2,10) : array di valori random campionati da una distribuzione gaussiana con media 0 e varianza 1.\n",
    " -     Numpy array 1D B di shape (20,) formato dagli interi da 0 a 19.\n",
    " \n",
    " \"Vedere\" A come un array 1D di 20 elementi ed effettuare la somma di A+B\n"
   ]
  },
  {
   "cell_type": "code",
   "execution_count": 59,
   "id": "15ae2a68-ae44-470e-b4c2-a8c2acd8b4a3",
   "metadata": {
    "tags": []
   },
   "outputs": [
    {
     "name": "stdout",
     "output_type": "stream",
     "text": [
      "C [ 1.1436261   0.93901961  1.02253362  2.63280198  5.48590789  4.34272947\n",
      "  7.88009446  5.2896674   8.07651058  8.70386471  9.81659417 10.9188014\n",
      " 10.75043305 11.36922257 13.46469646 13.83113555 16.25468543 16.72844899\n",
      " 17.96994936 19.47813726]\n"
     ]
    }
   ],
   "source": [
    "A=np.random.randn(2,10)\n",
    "B=np.arange(0,20)\n",
    "C=A.ravel()+B  #.ravel() produce una vista, non occupa memoria\n",
    "print(\"C\",C)"
   ]
  },
  {
   "cell_type": "markdown",
   "id": "020920a7-7554-4815-b6a6-c9579d0b566c",
   "metadata": {},
   "source": [
    "## Esercizio 12\n",
    "-     Costruire f, un numpy array 1D , di shape (10,) costituito da 10 valori equidistanti nell'intervallo [0,1]\n",
    "-     aumentarne la dimensionalità, in maniera tale che abbia shape (10,1)"
   ]
  },
  {
   "cell_type": "code",
   "execution_count": 60,
   "id": "98837678-4ecb-4f0c-8dff-31e877193681",
   "metadata": {
    "tags": []
   },
   "outputs": [
    {
     "name": "stdout",
     "output_type": "stream",
     "text": [
      "(10, 1)\n"
     ]
    }
   ],
   "source": [
    "f=np.linspace(0,1,10)\n",
    "f1=f.reshape(10,1)\n",
    "print(f1.shape)"
   ]
  },
  {
   "cell_type": "code",
   "execution_count": 61,
   "id": "30fa5ce4-5f86-4e01-a69c-8ab09e73179a",
   "metadata": {
    "tags": []
   },
   "outputs": [
    {
     "name": "stdout",
     "output_type": "stream",
     "text": [
      "Shape di f  (10,)\n",
      "[[0.        ]\n",
      " [0.11111111]\n",
      " [0.22222222]\n",
      " [0.33333333]\n",
      " [0.44444444]\n",
      " [0.55555556]\n",
      " [0.66666667]\n",
      " [0.77777778]\n",
      " [0.88888889]\n",
      " [1.        ]]\n",
      "Shape di f2  (10, 1)\n"
     ]
    }
   ],
   "source": [
    "#Altra possibilità\n",
    "f=np.linspace(0,1,10)\n",
    "print(\"Shape di f \",f.shape)\n",
    "f2=f[:,np.newaxis]\n",
    "print(f2)\n",
    "print(\"Shape di f2 \",f2.shape)"
   ]
  },
  {
   "cell_type": "markdown",
   "id": "610f98b2-3f2b-46e0-8a51-ac682a7b46a3",
   "metadata": {},
   "source": [
    "## Esercizio 13\n",
    "-     Costruire i seguenti numpy array\n",
    "      a= np.array([14,13,12,11])\n",
    "      b=np.array([[4,3,2,1],[9,10,11,12]])\n",
    "\n",
    "  Costruire il numpy array che si ottiene concatenando a e b per righe"
   ]
  },
  {
   "cell_type": "code",
   "execution_count": 62,
   "id": "4f6bb7c0-f805-4709-8c2b-77a0fb08bb62",
   "metadata": {
    "tags": []
   },
   "outputs": [
    {
     "name": "stdout",
     "output_type": "stream",
     "text": [
      "[[14 13 12 11]\n",
      " [ 4  3  2  1]\n",
      " [ 9 10 11 12]]\n"
     ]
    }
   ],
   "source": [
    "a= np.array([14,13,12,11])\n",
    "b=np.array([[4,3,2,1],[9,10,11,12]])\n",
    "c=np.concatenate((a.reshape(1,4),b),axis=0) #E' necessario aggiungere una dimensione ad a \n",
    "# deve essre un 2d array con 1 riga e 4 colonne\n",
    "print(c)"
   ]
  },
  {
   "cell_type": "markdown",
   "id": "51740675-7696-4803-9506-e593431e8a27",
   "metadata": {},
   "source": [
    "## Esercizio 14\n",
    "\n",
    "-     Costruire i seguenti numpy array\n",
    "      a= np.array([14,13,12,11])\n",
    "      b=np.array([[4,3,2,1],[9,10,11,12],[4,3,2,1],[9,10,11,12]])\n",
    "\n",
    "-\n",
    "- Costruire il numpy array che si ottiene concatenando a e b per colonne"
   ]
  },
  {
   "cell_type": "code",
   "execution_count": 63,
   "id": "a39fa44f-e9e8-4d48-8824-b0fc8d9bc217",
   "metadata": {
    "tags": []
   },
   "outputs": [
    {
     "name": "stdout",
     "output_type": "stream",
     "text": [
      "a= [14 13 12 11]\n",
      "b= [[ 4  3  2  1]\n",
      " [ 9 10 11 12]\n",
      " [ 4  3  2  1]\n",
      " [ 9 10 11 12]]\n",
      "[[14  4  3  2  1]\n",
      " [13  9 10 11 12]\n",
      " [12  4  3  2  1]\n",
      " [11  9 10 11 12]]\n"
     ]
    }
   ],
   "source": [
    "a= np.array([14,13,12,11])\n",
    "b=np.array([[4,3,2,1],[9,10,11,12],[4,3,2,1],[9,10,11,12]])\n",
    "print(\"a=\",a)\n",
    "print(\"b=\",b)\n",
    "c=np.concatenate((a.reshape(4,1),b),axis=1)\n",
    "print(c)  #E' necessario aggiungere una dimensione ad a \n",
    "# deve essere un 2d array con 4 righe e 1 colonna"
   ]
  },
  {
   "cell_type": "markdown",
   "id": "0cd10bd7-8d9e-4e99-827e-83cf83393782",
   "metadata": {},
   "source": [
    "## Esercizio 15\n",
    "Costruire, facendo uso di una sola riga di codice, la matrice A di ordine 20, che ha gli unici elementi diversi da zero, sulla diagonale principale, sulla codiagonale inferiore e sulla codiagonale superiore:\n",
    "\n",
    "elementi diagonali $A_{i,i}=10 \\quad$, i=1,20\n",
    "\n",
    "elementi nella codiagonale inferiore $A_{i-1,i}=-12, \\quad$ i=2,..,20, \n",
    "\n",
    "elementi nella codiagonale superiore $A_{i,i+1}=-2 \\quad$ i=1,..,19"
   ]
  },
  {
   "cell_type": "code",
   "execution_count": 64,
   "id": "ebb77bdc-74e1-44cc-81fd-6e3c47070899",
   "metadata": {
    "tags": []
   },
   "outputs": [
    {
     "name": "stdout",
     "output_type": "stream",
     "text": [
      "[[ 10.  -2.   0.   0.   0.   0.   0.   0.   0.   0.   0.   0.   0.   0.\n",
      "    0.   0.   0.   0.   0.   0.]\n",
      " [-12.  10.  -2.   0.   0.   0.   0.   0.   0.   0.   0.   0.   0.   0.\n",
      "    0.   0.   0.   0.   0.   0.]\n",
      " [  0. -12.  10.  -2.   0.   0.   0.   0.   0.   0.   0.   0.   0.   0.\n",
      "    0.   0.   0.   0.   0.   0.]\n",
      " [  0.   0. -12.  10.  -2.   0.   0.   0.   0.   0.   0.   0.   0.   0.\n",
      "    0.   0.   0.   0.   0.   0.]\n",
      " [  0.   0.   0. -12.  10.  -2.   0.   0.   0.   0.   0.   0.   0.   0.\n",
      "    0.   0.   0.   0.   0.   0.]\n",
      " [  0.   0.   0.   0. -12.  10.  -2.   0.   0.   0.   0.   0.   0.   0.\n",
      "    0.   0.   0.   0.   0.   0.]\n",
      " [  0.   0.   0.   0.   0. -12.  10.  -2.   0.   0.   0.   0.   0.   0.\n",
      "    0.   0.   0.   0.   0.   0.]\n",
      " [  0.   0.   0.   0.   0.   0. -12.  10.  -2.   0.   0.   0.   0.   0.\n",
      "    0.   0.   0.   0.   0.   0.]\n",
      " [  0.   0.   0.   0.   0.   0.   0. -12.  10.  -2.   0.   0.   0.   0.\n",
      "    0.   0.   0.   0.   0.   0.]\n",
      " [  0.   0.   0.   0.   0.   0.   0.   0. -12.  10.  -2.   0.   0.   0.\n",
      "    0.   0.   0.   0.   0.   0.]\n",
      " [  0.   0.   0.   0.   0.   0.   0.   0.   0. -12.  10.  -2.   0.   0.\n",
      "    0.   0.   0.   0.   0.   0.]\n",
      " [  0.   0.   0.   0.   0.   0.   0.   0.   0.   0. -12.  10.  -2.   0.\n",
      "    0.   0.   0.   0.   0.   0.]\n",
      " [  0.   0.   0.   0.   0.   0.   0.   0.   0.   0.   0. -12.  10.  -2.\n",
      "    0.   0.   0.   0.   0.   0.]\n",
      " [  0.   0.   0.   0.   0.   0.   0.   0.   0.   0.   0.   0. -12.  10.\n",
      "   -2.   0.   0.   0.   0.   0.]\n",
      " [  0.   0.   0.   0.   0.   0.   0.   0.   0.   0.   0.   0.   0. -12.\n",
      "   10.  -2.   0.   0.   0.   0.]\n",
      " [  0.   0.   0.   0.   0.   0.   0.   0.   0.   0.   0.   0.   0.   0.\n",
      "  -12.  10.  -2.   0.   0.   0.]\n",
      " [  0.   0.   0.   0.   0.   0.   0.   0.   0.   0.   0.   0.   0.   0.\n",
      "    0. -12.  10.  -2.   0.   0.]\n",
      " [  0.   0.   0.   0.   0.   0.   0.   0.   0.   0.   0.   0.   0.   0.\n",
      "    0.   0. -12.  10.  -2.   0.]\n",
      " [  0.   0.   0.   0.   0.   0.   0.   0.   0.   0.   0.   0.   0.   0.\n",
      "    0.   0.   0. -12.  10.  -2.]\n",
      " [  0.   0.   0.   0.   0.   0.   0.   0.   0.   0.   0.   0.   0.   0.\n",
      "    0.   0.   0.   0. -12.  10.]]\n"
     ]
    }
   ],
   "source": [
    "A=np.diag(np.ones((20,))*10)+np.diag(np.ones((19,))*(-12),-1)+np.diag(np.ones((19,))*(-2),1)\n",
    "print(A)"
   ]
  },
  {
   "cell_type": "markdown",
   "id": "53d3ad23-63ab-4719-b2d2-f2b1cb942063",
   "metadata": {},
   "source": [
    "## Esercizio 16\n",
    "\n",
    "Costruire la matrice identità, denominata *I*,  della stessa dimensione di *A*"
   ]
  },
  {
   "cell_type": "code",
   "execution_count": 65,
   "id": "de7ca3cf-dcdb-4f78-8fb5-0df5950b196d",
   "metadata": {
    "tags": []
   },
   "outputs": [
    {
     "name": "stdout",
     "output_type": "stream",
     "text": [
      "I= [[1. 0. 0. 0. 0. 0. 0. 0. 0. 0. 0. 0. 0. 0. 0. 0. 0. 0. 0. 0.]\n",
      " [0. 1. 0. 0. 0. 0. 0. 0. 0. 0. 0. 0. 0. 0. 0. 0. 0. 0. 0. 0.]\n",
      " [0. 0. 1. 0. 0. 0. 0. 0. 0. 0. 0. 0. 0. 0. 0. 0. 0. 0. 0. 0.]\n",
      " [0. 0. 0. 1. 0. 0. 0. 0. 0. 0. 0. 0. 0. 0. 0. 0. 0. 0. 0. 0.]\n",
      " [0. 0. 0. 0. 1. 0. 0. 0. 0. 0. 0. 0. 0. 0. 0. 0. 0. 0. 0. 0.]\n",
      " [0. 0. 0. 0. 0. 1. 0. 0. 0. 0. 0. 0. 0. 0. 0. 0. 0. 0. 0. 0.]\n",
      " [0. 0. 0. 0. 0. 0. 1. 0. 0. 0. 0. 0. 0. 0. 0. 0. 0. 0. 0. 0.]\n",
      " [0. 0. 0. 0. 0. 0. 0. 1. 0. 0. 0. 0. 0. 0. 0. 0. 0. 0. 0. 0.]\n",
      " [0. 0. 0. 0. 0. 0. 0. 0. 1. 0. 0. 0. 0. 0. 0. 0. 0. 0. 0. 0.]\n",
      " [0. 0. 0. 0. 0. 0. 0. 0. 0. 1. 0. 0. 0. 0. 0. 0. 0. 0. 0. 0.]\n",
      " [0. 0. 0. 0. 0. 0. 0. 0. 0. 0. 1. 0. 0. 0. 0. 0. 0. 0. 0. 0.]\n",
      " [0. 0. 0. 0. 0. 0. 0. 0. 0. 0. 0. 1. 0. 0. 0. 0. 0. 0. 0. 0.]\n",
      " [0. 0. 0. 0. 0. 0. 0. 0. 0. 0. 0. 0. 1. 0. 0. 0. 0. 0. 0. 0.]\n",
      " [0. 0. 0. 0. 0. 0. 0. 0. 0. 0. 0. 0. 0. 1. 0. 0. 0. 0. 0. 0.]\n",
      " [0. 0. 0. 0. 0. 0. 0. 0. 0. 0. 0. 0. 0. 0. 1. 0. 0. 0. 0. 0.]\n",
      " [0. 0. 0. 0. 0. 0. 0. 0. 0. 0. 0. 0. 0. 0. 0. 1. 0. 0. 0. 0.]\n",
      " [0. 0. 0. 0. 0. 0. 0. 0. 0. 0. 0. 0. 0. 0. 0. 0. 1. 0. 0. 0.]\n",
      " [0. 0. 0. 0. 0. 0. 0. 0. 0. 0. 0. 0. 0. 0. 0. 0. 0. 1. 0. 0.]\n",
      " [0. 0. 0. 0. 0. 0. 0. 0. 0. 0. 0. 0. 0. 0. 0. 0. 0. 0. 1. 0.]\n",
      " [0. 0. 0. 0. 0. 0. 0. 0. 0. 0. 0. 0. 0. 0. 0. 0. 0. 0. 0. 1.]]\n"
     ]
    }
   ],
   "source": [
    "I=np.eye(A.shape[0])\n",
    "print(\"I=\",I)"
   ]
  },
  {
   "cell_type": "markdown",
   "id": "b5257ffc-b9c9-4d22-a3b4-427b03f2e8dc",
   "metadata": {},
   "source": [
    "## Esercizio 17\n",
    "\n",
    "Facendo uso dell'operatore slicing *:* ,costruire la matrice AA selezionando dalla matrice A le righe che vanno dalla 2 alla 9 con step 2 e le colonne che vanno dalla 3 alla 6 con step 2.\n",
    "La matrice AA è una vista o una copia?"
   ]
  },
  {
   "cell_type": "code",
   "execution_count": 66,
   "id": "2175b929-f9a1-4591-9ffa-6f7b19cc6d40",
   "metadata": {
    "tags": []
   },
   "outputs": [
    {
     "name": "stdout",
     "output_type": "stream",
     "text": [
      "[[ -2.   0.]\n",
      " [-12.  -2.]\n",
      " [  0. -12.]\n",
      " [  0.   0.]]\n",
      "[[ 10.  -2.   0.   0.   0.   0.   0.   0.   0.   0.   0.   0.   0.   0.\n",
      "    0.   0.   0.   0.   0.   0.]\n",
      " [-12.  10.  -2.   0.   0.   0.   0.   0.   0.   0.   0.   0.   0.   0.\n",
      "    0.   0.   0.   0.   0.   0.]\n",
      " [  0. -12.  10.  -2.   0.   0.   0.   0.   0.   0.   0.   0.   0.   0.\n",
      "    0.   0.   0.   0.   0.   0.]\n",
      " [  0.   0. -12.  10.  -2.   0.   0.   0.   0.   0.   0.   0.   0.   0.\n",
      "    0.   0.   0.   0.   0.   0.]\n",
      " [  0.   0.   0. -12.  10.  -2.   0.   0.   0.   0.   0.   0.   0.   0.\n",
      "    0.   0.   0.   0.   0.   0.]\n",
      " [  0.   0.   0.   0. -12.  10.  -2.   0.   0.   0.   0.   0.   0.   0.\n",
      "    0.   0.   0.   0.   0.   0.]\n",
      " [  0.   0.   0.   0.   0. -12.  10.  -2.   0.   0.   0.   0.   0.   0.\n",
      "    0.   0.   0.   0.   0.   0.]\n",
      " [  0.   0.   0.   0.   0.   0. -12.  10.  -2.   0.   0.   0.   0.   0.\n",
      "    0.   0.   0.   0.   0.   0.]\n",
      " [  0.   0.   0.   0.   0.   0.   0. -12.  10.  -2.   0.   0.   0.   0.\n",
      "    0.   0.   0.   0.   0.   0.]\n",
      " [  0.   0.   0.   0.   0.   0.   0.   0. -12.  10.  -2.   0.   0.   0.\n",
      "    0.   0.   0.   0.   0.   0.]\n",
      " [  0.   0.   0.   0.   0.   0.   0.   0.   0. -12.  10.  -2.   0.   0.\n",
      "    0.   0.   0.   0.   0.   0.]\n",
      " [  0.   0.   0.   0.   0.   0.   0.   0.   0.   0. -12.  10.  -2.   0.\n",
      "    0.   0.   0.   0.   0.   0.]\n",
      " [  0.   0.   0.   0.   0.   0.   0.   0.   0.   0.   0. -12.  10.  -2.\n",
      "    0.   0.   0.   0.   0.   0.]\n",
      " [  0.   0.   0.   0.   0.   0.   0.   0.   0.   0.   0.   0. -12.  10.\n",
      "   -2.   0.   0.   0.   0.   0.]\n",
      " [  0.   0.   0.   0.   0.   0.   0.   0.   0.   0.   0.   0.   0. -12.\n",
      "   10.  -2.   0.   0.   0.   0.]\n",
      " [  0.   0.   0.   0.   0.   0.   0.   0.   0.   0.   0.   0.   0.   0.\n",
      "  -12.  10.  -2.   0.   0.   0.]\n",
      " [  0.   0.   0.   0.   0.   0.   0.   0.   0.   0.   0.   0.   0.   0.\n",
      "    0. -12.  10.  -2.   0.   0.]\n",
      " [  0.   0.   0.   0.   0.   0.   0.   0.   0.   0.   0.   0.   0.   0.\n",
      "    0.   0. -12.  10.  -2.   0.]\n",
      " [  0.   0.   0.   0.   0.   0.   0.   0.   0.   0.   0.   0.   0.   0.\n",
      "    0.   0.   0. -12.  10.  -2.]\n",
      " [  0.   0.   0.   0.   0.   0.   0.   0.   0.   0.   0.   0.   0.   0.\n",
      "    0.   0.   0.   0. -12.  10.]]\n"
     ]
    }
   ],
   "source": [
    "A1=A[2:10:2,3:7:2]\n",
    "print(A1)\n",
    "print(A1.base) #La matrice è una vista"
   ]
  },
  {
   "cell_type": "markdown",
   "id": "090aeaa9-fb12-44bc-9560-5b11a0e6f503",
   "metadata": {},
   "source": [
    "## Esercizio 18\n",
    "\n",
    "Facendo uso dell'operatore slicing *:*, costruire la matrice A1 selezionando dalla matrice A le colonne che vanno dalla 1 alla 5 con step 2.  Trasforma la matrice A1 in una copia."
   ]
  },
  {
   "cell_type": "code",
   "execution_count": 67,
   "id": "54e3087c-341e-4a15-9744-aa40a31c493e",
   "metadata": {
    "tags": []
   },
   "outputs": [
    {
     "name": "stdout",
     "output_type": "stream",
     "text": [
      "[[ -2.   0.   0.]\n",
      " [ 10.   0.   0.]\n",
      " [-12.  -2.   0.]\n",
      " [  0.  10.   0.]\n",
      " [  0. -12.  -2.]\n",
      " [  0.   0.  10.]\n",
      " [  0.   0. -12.]\n",
      " [  0.   0.   0.]\n",
      " [  0.   0.   0.]\n",
      " [  0.   0.   0.]\n",
      " [  0.   0.   0.]\n",
      " [  0.   0.   0.]\n",
      " [  0.   0.   0.]\n",
      " [  0.   0.   0.]\n",
      " [  0.   0.   0.]\n",
      " [  0.   0.   0.]\n",
      " [  0.   0.   0.]\n",
      " [  0.   0.   0.]\n",
      " [  0.   0.   0.]\n",
      " [  0.   0.   0.]]\n",
      "None\n"
     ]
    }
   ],
   "source": [
    "A1=A[:,1:7:2].copy()\n",
    "print(A1)\n",
    "print(A1.base) #La matrice è una copia"
   ]
  },
  {
   "cell_type": "markdown",
   "id": "a5449d1f-1232-4ba0-a2d6-4d2e2d9c7a36",
   "metadata": {},
   "source": [
    "## Esercizio 19\n",
    "\n",
    "Costruisci due numpy array A e B di shape (5,5) \n",
    "   - A formata da numeri interi casuali  nell'intervallo [1,20]\n",
    "   - B formata da numeri interi casuali  nell'intervallo [1,6]\n",
    " \n",
    "  Costruisci con una sola riga di codice le seguenti matrici\n",
    "  \n",
    "  C=A+B   dove  $\\quad c_{ij}=a_{ij}+b_{ij} \\quad i=0,..,n, \\quad j=0,...,n$\n",
    "  \n",
    "  D=A-B   dove  $\\quad d_{ij}=a_{ij}-b_{ij} \\quad i=0,..,n, \\quad j=0,...,n$\n",
    "  \n",
    "  E=A*B   dove  $\\quad e_{ij}=a_{ij}*b_{ij} \\quad i=0,..,n, \\quad j=0,...,n$\n",
    "  \n",
    "  F=A/B   dove  $\\quad f_{ij}=a_{ij}/b_{ij} \\quad i=0,..,n, \\quad j=0,...,n$"
   ]
  },
  {
   "cell_type": "code",
   "execution_count": 68,
   "id": "9124fb6c-bb7c-4981-b26a-694bf4c96e5c",
   "metadata": {
    "tags": []
   },
   "outputs": [
    {
     "name": "stdout",
     "output_type": "stream",
     "text": [
      "A=\n",
      " [[ 5 17 18  7  6]\n",
      " [ 8  8  1  4 11]\n",
      " [ 9  9 18  4 11]\n",
      " [ 4 19 19 16 16]\n",
      " [12  3 13 13  7]]\n",
      "B=\n",
      " [[5 2 3 2 2]\n",
      " [5 2 5 2 1]\n",
      " [1 5 2 4 3]\n",
      " [2 1 1 4 1]\n",
      " [2 1 1 5 5]]\n",
      "C=\n",
      " [[10 19 21  9  8]\n",
      " [13 10  6  6 12]\n",
      " [10 14 20  8 14]\n",
      " [ 6 20 20 20 17]\n",
      " [14  4 14 18 12]]\n",
      "D=\n",
      " [[ 0 15 15  5  4]\n",
      " [ 3  6 -4  2 10]\n",
      " [ 8  4 16  0  8]\n",
      " [ 2 18 18 12 15]\n",
      " [10  2 12  8  2]]\n",
      "E=\n",
      " [[25 34 54 14 12]\n",
      " [40 16  5  8 11]\n",
      " [ 9 45 36 16 33]\n",
      " [ 8 19 19 64 16]\n",
      " [24  3 13 65 35]]\n",
      "F=\n",
      " [[ 1.          8.5         6.          3.5         3.        ]\n",
      " [ 1.6         4.          0.2         2.         11.        ]\n",
      " [ 9.          1.8         9.          1.          3.66666667]\n",
      " [ 2.         19.         19.          4.         16.        ]\n",
      " [ 6.          3.         13.          2.6         1.4       ]]\n"
     ]
    }
   ],
   "source": [
    "A=np.random.randint(1,20,25).reshape(5,5)\n",
    "B=np.random.randint(1,6,25).reshape(5,5)\n",
    "C=A+B\n",
    "D=A-B\n",
    "E=A*B\n",
    "F=A/B\n",
    "print(\"A=\\n\",A)\n",
    "print(\"B=\\n\",B)\n",
    "print(\"C=\\n\",C)\n",
    "print(\"D=\\n\",D)\n",
    "print(\"E=\\n\",E)\n",
    "print(\"F=\\n\",F)\n"
   ]
  },
  {
   "cell_type": "markdown",
   "id": "5a4ad10c-ccfa-45ce-b6ba-b7ddab44db3d",
   "metadata": {},
   "source": [
    "## Esercizio 20\n",
    "\n",
    "Dato array NumPy che rappresenta le vendite giornaliere di un negozio per un mese,\n",
    "vendite = np.random.randint(50, 200, 30) \n",
    "\n",
    "        Trova tutti i giorni in cui le vendite sono state superiori a 150.\n",
    "\n",
    "        Calcola la media delle vendite solo per i giorni in cui sono state superiori a 150.\n",
    "\n",
    "        Imposta le vendite a 0 per tutti i giorni in cui sono state inferiori a 100.\n"
   ]
  },
  {
   "cell_type": "code",
   "execution_count": 69,
   "id": "a4d537e8-b523-44ed-b2ce-6da3998a109a",
   "metadata": {
    "tags": []
   },
   "outputs": [
    {
     "name": "stdout",
     "output_type": "stream",
     "text": [
      "Giorni con vendite > 150: [195 159 170 171 160 188 163 182 152]\n",
      "Media vendite > 150: 171.11111111111111\n",
      "Vendite aggiornate: [104 195 159 104   0 170 113 128 104 171   0 143 160 188   0   0 163 139\n",
      "   0   0 108 101 182 119   0   0 124 143 126 152]\n"
     ]
    }
   ],
   "source": [
    "vendite = np.random.randint(50, 200, 30)\n",
    "\n",
    "# 1. Trova i giorni con vendite > 150\n",
    "maschera_vendite_alte = vendite > 150\n",
    "giorni_vendite_alte = vendite[maschera_vendite_alte]\n",
    "print(\"Giorni con vendite > 150:\", giorni_vendite_alte)\n",
    "\n",
    "# 2. Calcola la media delle vendite per i giorni > 150\n",
    "media_vendite_alte = np.mean(vendite[maschera_vendite_alte])\n",
    "print(\"Media vendite > 150:\", media_vendite_alte)\n",
    "\n",
    "# 3. Imposta le vendite a 0 per i giorni < 100\n",
    "maschera_vendite_basse = vendite < 100\n",
    "vendite[maschera_vendite_basse] = 0\n",
    "print(\"Vendite aggiornate:\", vendite)"
   ]
  },
  {
   "cell_type": "markdown",
   "id": "d90da717-8cd5-425f-937e-588d6ccb045a",
   "metadata": {
    "tags": []
   },
   "source": [
    "## Esercizio 21\n",
    "\n",
    "Costruisci A, un numpy array 2d di shape (3,3) e b,  un numpy array 2d di shape (3,1)\n",
    "e somma b ad ogni colonna di A b\n"
   ]
  },
  {
   "cell_type": "code",
   "execution_count": 38,
   "id": "8a505281-0c25-4d86-88a3-145dbd2bd551",
   "metadata": {
    "tags": []
   },
   "outputs": [
    {
     "name": "stdout",
     "output_type": "stream",
     "text": [
      "A=\n",
      " [[1 2 3]\n",
      " [4 5 6]\n",
      " [7 8 9]]\n",
      "b=\n",
      " [[10]\n",
      " [20]\n",
      " [30]]\n",
      "C=\n",
      " [[11 12 13]\n",
      " [24 25 26]\n",
      " [37 38 39]]\n"
     ]
    }
   ],
   "source": [
    "\n",
    "A = np.array([[1, 2, 3], [4, 5, 6], [7, 8, 9]])\n",
    "b = np.array([10, 20, 30]).reshape(-1, 1)\n",
    "C=A+b\n",
    "print(\"A=\\n\",A)\n",
    "print(\"b=\\n\",b)\n",
    "print(\"C=\\n\",C)"
   ]
  },
  {
   "cell_type": "markdown",
   "id": "3a618bff-afc1-4ee0-bde8-b03aca4db79c",
   "metadata": {},
   "source": [
    "# Esercizio 22\n",
    "Dato il numpy array 2d G=np.linspace(0,10,20).reshape(-1,4), scambia in G la seconda riga con la quarta riga"
   ]
  },
  {
   "cell_type": "code",
   "execution_count": 37,
   "id": "61117633-12bf-427a-9cfe-2472a8305e79",
   "metadata": {},
   "outputs": [
    {
     "name": "stdout",
     "output_type": "stream",
     "text": [
      "[[ 0.          0.52631579  1.05263158  1.57894737]\n",
      " [ 2.10526316  2.63157895  3.15789474  3.68421053]\n",
      " [ 4.21052632  4.73684211  5.26315789  5.78947368]\n",
      " [ 6.31578947  6.84210526  7.36842105  7.89473684]\n",
      " [ 8.42105263  8.94736842  9.47368421 10.        ]]\n",
      "[[ 0.          0.52631579  1.05263158  1.57894737]\n",
      " [ 2.10526316  2.63157895  3.15789474  3.68421053]\n",
      " [ 8.42105263  8.94736842  9.47368421 10.        ]\n",
      " [ 6.31578947  6.84210526  7.36842105  7.89473684]\n",
      " [ 4.21052632  4.73684211  5.26315789  5.78947368]]\n"
     ]
    }
   ],
   "source": [
    "G=np.linspace(0,10,20).reshape(-1,4)\n",
    "print(G)\n",
    "G[[2,4],:]=G[[4,2],:]\n",
    "print(G)"
   ]
  },
  {
   "cell_type": "markdown",
   "id": "009545b1-9703-420b-a239-c3ead4e31cd1",
   "metadata": {},
   "source": [
    "# Esercizio 23\n",
    "Visualizzare il grafico della funzione $f(x)=sin(x)^2/x$ in 200 punti equidistanti nell'intervallo $[0.1,2\\pi]$"
   ]
  },
  {
   "cell_type": "code",
   "execution_count": 26,
   "id": "ff0bc6b7-45cc-484c-8ba2-8c9fdff02f11",
   "metadata": {
    "tags": []
   },
   "outputs": [
    {
     "data": {
      "text/plain": [
       "[<matplotlib.lines.Line2D at 0x23f3b371b50>]"
      ]
     },
     "execution_count": 26,
     "metadata": {},
     "output_type": "execute_result"
    },
    {
     "data": {
      "image/png": "[encoded data removed]",
      "text/plain": [
       "<Figure size 640x480 with 1 Axes>"
      ]
     },
     "metadata": {},
     "output_type": "display_data"
    }
   ],
   "source": [
    "x=np.linspace(0.1,2*np.pi,200)\n",
    "f= lambda x: np.sin(x)**2/x\n",
    "plt.plot(x,f(x))"
   ]
  },
  {
   "cell_type": "markdown",
   "id": "1de7dc23-fd45-4c5c-a0e2-201d3b8e0aa4",
   "metadata": {},
   "source": [
    "## Esercizio 24\n",
    "\n",
    "Data il numpy arra2d ottenuto facendo un reshape a (4,4) di un numpy array 1d di 16 valori equidistanti nell'intervallo [0,4]\n",
    "ed un numpy array 1d di 4 valori  interi casuali nell'intervallo [10,60], costruire il prodotto scalare A per b,\n",
    "usando A@b, e vettorizzando solo il ciclo interno"
   ]
  },
  {
   "cell_type": "code",
   "execution_count": 36,
   "id": "64ee4f1d-c220-459b-8e13-8fb199d5ff4f",
   "metadata": {
    "tags": []
   },
   "outputs": [
    {
     "name": "stdout",
     "output_type": "stream",
     "text": [
      "A=\n",
      " [[0.         0.26666667 0.53333333 0.8       ]\n",
      " [1.06666667 1.33333333 1.6        1.86666667]\n",
      " [2.13333333 2.4        2.66666667 2.93333333]\n",
      " [3.2        3.46666667 3.73333333 4.        ]]\n",
      "b=\n",
      " [47 28 44 45]\n",
      "Prodotto A scalare A b \n",
      " [ 66.93333333 241.86666667 416.8        591.73333333]\n",
      "Prodotto vettorizzando ciclo interno \n",
      " [ 66.93333333 241.86666667 416.8        591.73333333]\n"
     ]
    }
   ],
   "source": [
    "A=np.linspace(0.0,4.0,16).reshape(4,4)\n",
    "b=np.random.randint(10,60,4)\n",
    "print(\"A=\\n\",A)\n",
    "print(\"b=\\n\",b)\n",
    "Ab=A@b\n",
    "print(\"Prodotto A scalare A b \\n\",Ab)\n",
    "righe = A.shape[0]\n",
    "risultato = np.zeros(righe)\n",
    "\n",
    "for i in range(righe):\n",
    "    risultato[i] = np.dot(A[i, :], b) # Vettorizzazione del ciclo interno\n",
    "print(\"Prodotto vettorizzando ciclo interno \\n\",risultato)"
   ]
  },
  {
   "cell_type": "markdown",
   "id": "65583f40-9b37-4b40-9d4a-28ca07e5b425",
   "metadata": {
    "tags": []
   },
   "source": [
    "## Esercizio 25\n",
    "\n",
    "Dato g un numpy array 2d, estendilo di una riga in alto ed di una riga in basso, di una colonna a sinistra ed di una colonna a destra, usa la funzione gest= np.pad(g,(1,1),mode='reflect'). Visualizzagest e commenta cosa vedi"
   ]
  },
  {
   "cell_type": "code",
   "execution_count": 27,
   "id": "198cc221-bbf8-4727-8d9a-c9ef2890354f",
   "metadata": {},
   "outputs": [
    {
     "name": "stdout",
     "output_type": "stream",
     "text": [
      "g= \n",
      " [[ 4  5  6  7]\n",
      " [ 8  9 10 11]\n",
      " [12 13 14 14]]\n",
      "gest_s \n",
      " [[ 9  8  9 10 11 10]\n",
      " [ 5  4  5  6  7  6]\n",
      " [ 9  8  9 10 11 10]\n",
      " [13 12 13 14 14 14]\n",
      " [ 9  8  9 10 11 10]]\n"
     ]
    }
   ],
   "source": [
    "g=np.array([[4,5,6,7],[8,9,10,11],[12,13,14,14]])\n",
    "print(\"g= \\n\",g)\n",
    "\n",
    "gest_s=np.pad(g,(1,1),mode='reflect')\n",
    "print(\"gest_s \\n\",gest_s)"
   ]
  },
  {
   "cell_type": "markdown",
   "id": "958c2100-787e-438b-a162-0aa08465f476",
   "metadata": {},
   "source": [
    "## Esercizio 26\n",
    "Scrivi un programma Python che esegua l'elaborazione di un'immagine utilizzando un filtro di media. \n",
    "\n",
    "Utilizza il padding per gestire i pixel del bordo durante l'applicazione del filtro.\n",
    "\n",
    "Il programma deve seguire questi passaggi:\n",
    "\n",
    "- Carica l'immagine: Carica l'immagine 'cameraman.png' utilizzando la libreria Matplotlib.**image=plt.imread('cameraman.png')**\n",
    "- Visualizza l'immagine originale **plt.imshow(image,cmap='gray')**\n",
    "- definisce la dimensione del filtro, dim_filtro\n",
    "- Applica il padding: Applica un padding costante di dim_filtro//2 pixel a tutti i bordi dell'immagine (utilizzando il metodo di numpy **image_bordered=np.pad(image,(dim_filtro//2,dim_filtro//2),, mode='reflect')**\n",
    "- Crea il filtro di media: Crea un filtro di media di dimensioni *dim_filtroxdim_filtro*, dove tutti gli elementi sono pari a 1/(dim_filtroxdim_filtro)\n",
    "- Applica il filtro: Scorri ogni pixel dell'immagine con padding (escludendo i bordi aggiunti) e applica il filtro di media.\n",
    "\n",
    "   *Per ogni pixel, calcola la somma dei prodotti tra i pixel della sottomatrice 7x7 centrata sul pixel corrente e il filtro.*\n",
    "   \n",
    "- Crea l'immagine filtrata: Crea un nuovo array NumPy che rappresenta l'immagine filtrata, dove ogni pixel contiene il risultato dell'applicazione del filtro.\n",
    "- Visualizza l'immagine filtrata: Visualizza l'immagine filtrata utilizzando Matplotlib con la mappa di colori 'gray'.\n",
    "- Aggiungi una colorbar: Aggiungi una colorbar per visualizzare la scala dei valori dell'immagine filtrata.\n",
    "- Mostra l'immagine: Mostra l'immagine filtrata con Matplotlib.\n",
    "\n",
    "\n",
    "Requisiti:\n",
    "\n",
    "-  Utilizzare la libreria Matplotlib per caricare e visualizzare l'immagine.\n",
    "-  Utilizzare la libreria NumPy per la manipolazione degli array e per il padding."
   ]
  },
  {
   "cell_type": "code",
   "execution_count": 25,
   "id": "bc9e9b10-a240-4241-bbb8-379a920c4306",
   "metadata": {
    "tags": []
   },
   "outputs": [
    {
     "data": {
      "image/png": "[encoded data removed]",
      "text/plain": [
       "<Figure size 640x480 with 2 Axes>"
      ]
     },
     "metadata": {},
     "output_type": "display_data"
    }
   ],
   "source": [
    "\n",
    "image_file='cameraman.png'\n",
    "image = plt.imread(image_file)\n",
    "dim_filtro=7\n",
    "padding=dim_filtro//2\n",
    " \n",
    "righe,colonne=image.shape\n",
    "image_bordered=np.pad(image, (padding, padding), mode='reflect')\n",
    " \n",
    "filter_ = np.ones((dim_filtro,dim_filtro)) / 9  \n",
    "filtered_image = np.zeros_like(image)\n",
    "for i in range(padding, image.shape[0]+padding):\n",
    "    for j in range(padding, image.shape[1]+padding):\n",
    "        filtered_image[i-padding, j-padding] = np.sum(image_bordered[i - padding:i + padding+1, j - padding:j + padding+1] * filter_)\n",
    "\n",
    "plt.imshow(filtered_image,cmap='gray') \n",
    "\n",
    "plt.colorbar()\n",
    "plt.show()\n"
   ]
  },
  {
   "cell_type": "code",
   "execution_count": null,
   "id": "3c5010c4-5a9c-4dc5-983b-82a7f9cf7188",
   "metadata": {},
   "outputs": [],
   "source": []
  },
  {
   "cell_type": "code",
   "execution_count": null,
   "id": "0dc46bde-da98-4fe1-a337-f602d010cb7d",
   "metadata": {},
   "outputs": [],
   "source": []
  }
 ],
 "metadata": {
  "kernelspec": {
   "display_name": "Python 3 (ipykernel)",
   "language": "python",
   "name": "python3"
  },
  "language_info": {
   "codemirror_mode": {
    "name": "ipython",
    "version": 3
   },
   "file_extension": ".py",
   "mimetype": "text/x-python",
   "name": "python",
   "nbconvert_exporter": "python",
   "pygments_lexer": "ipython3",
   "version": "3.11.5"
  }
 },
 "nbformat": 4,
 "nbformat_minor": 5
}
