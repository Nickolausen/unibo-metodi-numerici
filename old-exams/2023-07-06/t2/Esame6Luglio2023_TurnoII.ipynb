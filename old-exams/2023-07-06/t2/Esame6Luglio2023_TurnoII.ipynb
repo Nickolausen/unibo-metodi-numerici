{
 "cells": [
  {
   "cell_type": "markdown",
   "id": "9edf6b43-5c77-43f5-a179-9986fc68abf8",
   "metadata": {},
   "source": [
    "# Esame di Metodi Numerici - 6 Luglio 2023\n",
    "## Turno II -- Ore 11.45"
   ]
  },
  {
   "cell_type": "markdown",
   "id": "ff8dd546-5e8d-4dde-ab61-51251c05bad2",
   "metadata": {},
   "source": [
    "## Esercizio 1\n"
   ]
  },
  {
   "cell_type": "markdown",
   "id": "378dc3b4-702c-4e2f-b388-fc5275db9a75",
   "metadata": {},
   "source": [
    "Nel file ``Test_II.mat`` sono memorizzate le matrici A1, A2 ed A3 ed i vettori b1,b2,b3. Risolvere i 3 sistemi lineari aventi ciascuno di essi come matrice dei coefficienti A1 e termine noto b1, A2 e termine noto b2, A3 e terimine noto b3  utilizzando il metodo più adatto per ciascuno di essi e  commentare i risultati ottenuti  giustificandoli alla luce della teoria.\n",
    "Verificare se le matrici sono malcondizionate, dire teoricamente cosa questo implica e verificarlo sperimentalmente.\n",
    "\n",
    "\n",
    "Per la lettura dei dati procedere nel seguente modo:\n",
    "\n",
    "``from scipy.io import loadmat``\n",
    "\n",
    "``import numpy as np``\n",
    "\n",
    "``dati = loadmat('Test_II.mat')``\n",
    "\n",
    "``A1=dati[\"A1\"] ``\n",
    "\n",
    "``A1=A1.astype(float)``\n",
    "\n",
    "`` b1=dati[\"b1\"] ``\n",
    "\n",
    "`` b1=b1.astype(float)``\n",
    "\n",
    "``A2=dati[\"A2\"] ``\n",
    "\n",
    "``A2=A2.astype(float)``\n",
    "\n",
    "`` b2=dati[\"b2\"] ``\n",
    "\n",
    "`` b2=b2.astype(float)``\n",
    "\n",
    "``A3=dati[\"A3\"] ``\n",
    "\n",
    "``A3=A3.astype(float)``\n",
    "\n",
    "`` b3=dati[\"b3\"] ``\n",
    "\n",
    "`` b3=b3.astype(float)``\n",
    "\n",
    "\n",
    "\n",
    "                                                                    Punti 16"
   ]
  },
  {
   "cell_type": "code",
   "execution_count": 2,
   "id": "8d07ecc4-2da8-4790-abdd-1675899c8bba",
   "metadata": {},
   "outputs": [],
   "source": [
    "from scipy.io import loadmat\n",
    "\n",
    "import numpy as np\n",
    "import scipy as sc\n",
    "import matplotlib.pyplot as plt\n",
    "from RisolviSis import Lsolve, Usolve"
   ]
  },
  {
   "cell_type": "code",
   "execution_count": 3,
   "id": "81cd6963-8a67-4d05-b4f9-0be4bf2a0189",
   "metadata": {},
   "outputs": [
    {
     "name": "stdout",
     "output_type": "stream",
     "text": [
      "=== Caratteristiche matrice A1 ===\n",
      "1. Dimensioni ('m' righe, 'n' colonne) — (15, 15)\n",
      "2. Quadrata? True\n",
      "3. Sparsa? False\n",
      "4. Definita positiva? True\n",
      "5. Diagonale strettamente dominante? False\n",
      "> Condizionamento:  16801108.667840794\n",
      "\n",
      "=== Caratteristiche matrice A2 ===\n",
      "1. Dimensioni ('m' righe, 'n' colonne) — (15, 6)\n",
      "2. Quadrata? False\n",
      "3. Sparsa? False\n",
      "4. Rango massimo? True\n",
      "> Condizionamento:  9.99999999999999\n",
      "\n",
      "=== Caratteristiche matrice A3 ===\n",
      "1. Dimensioni ('m' righe, 'n' colonne) — (225, 225)\n",
      "2. Quadrata? True\n",
      "3. Sparsa? True\n",
      "4. Definita positiva? False\n",
      "5. Diagonale strettamente dominante? True\n",
      "> Condizionamento:  1.185268011766112\n",
      "\n"
     ]
    }
   ],
   "source": [
    "dati = loadmat('Test_II.mat')\n",
    "A1=dati[\"A1\"] \n",
    "A1=A1.astype(float)\n",
    "b1=dati[\"b1\"]\n",
    "b1=b1.astype(float)\n",
    "\n",
    "A2=dati[\"A2\"] \n",
    "A2=A2.astype(float)\n",
    "b2=dati[\"b2\"]\n",
    "b2=b2.astype(float)\n",
    "\n",
    "A3=dati[\"A3\"] \n",
    "A3=A3.astype(float)\n",
    "b3=dati[\"b3\"]\n",
    "b3=b3.astype(float)\n",
    "\n",
    "matrices = [\n",
    "    A1, A2, A3\n",
    "]\n",
    "\n",
    "coeffs = [\n",
    "    b1, b2, b3\n",
    "]\n",
    "\n",
    "def is_square(A):\n",
    "    return A.shape[0] == A.shape[1]\n",
    "    \n",
    "def is_def_pos(A):\n",
    "    def is_symm(A):\n",
    "       return np.allclose(A, A.T, atol=np.spacing(1))\n",
    "    return is_symm(A) and np.all(np.linalg.eigvals(A) > 0)\n",
    "\n",
    "def is_dd(A):\n",
    "    d = np.diag(np.abs(A))\n",
    "    row_sum = np.sum(np.abs(A), axis=0)\n",
    "    return np.all(d > row_sum - d)\n",
    "\n",
    "def is_sparse(A):\n",
    "    return np.count_nonzero(A) / A.size < .33\n",
    "\n",
    "def has_max_rank(A):\n",
    "    return A.shape[1] == np.linalg.matrix_rank(A)\n",
    "\n",
    "for idx, A in enumerate(matrices):\n",
    "    mat_name = f\"A{idx + 1}\"\n",
    "    print(f\"=== Caratteristiche matrice {mat_name} ===\")\n",
    "    print(\"1. Dimensioni ('m' righe, 'n' colonne) —\", A.shape)\n",
    "    print(\"2. Quadrata?\", is_square(A))\n",
    "    print(\"3. Sparsa?\", is_sparse(A))\n",
    "    if is_square(A):\n",
    "        print(\"4. Definita positiva?\", is_def_pos(A))\n",
    "        print(\"5. Diagonale strettamente dominante?\", is_dd(A))\n",
    "    else:\n",
    "        print(\"4. Rango massimo?\", has_max_rank(A))\n",
    "    print(\"> Condizionamento: \", np.linalg.cond(A))\n",
    "    print()"
   ]
  },
  {
   "cell_type": "markdown",
   "id": "fdc0189b-b53c-4ad7-b7a7-d5af0de1ecfc",
   "metadata": {},
   "source": [
    "### Osservazioni\n",
    "#### - Matrice A1\n",
    "La matrice è quadrata, piccola e densa. Quindi, in generale, il sistema lineare associato si presta ad essere risolto con i metodi diretti — che si basano sulla fattorizzazione di $A$ in due matrici, chiamiamole $B$ e $C$.\n",
    "Tra i possibili metodi troviamo:\n",
    "- fattorizzazione di Gauss $L \\cdot U$, dove $L$ è una matrice triangolare inferiore con diagonale a 1 e $U$ triangolare superiore.\n",
    "- fattorizzazione di Householder $Q \\cdot R$, dove $Q$ è una matrice ortogonale e $R$ è triangolare superiore.\n",
    "- fattorizzazione di Cholesky $L \\cdot L^T$ (oppure $R^T \\cdot R$), dove $L$ è una matrice triangolare inferiore con diagonale positiva\n",
    "\n",
    "Tra i tre metodi, quello che sfrutta la caratteristica di A1 di essere definita positiva è Cholesky — che scelgo di implementare.\n",
    "\n",
    "Matrice altamente mal condizionata!\n",
    "\n",
    "#### - Matrice A2\n",
    "La matrice non è quadrata, quindi il sistema associato è un sistema lineare sovradeterminato. La matrice ha rango massimo, quindi sicuramente posso scartare il metodo \"Singular Value Decomposition\" adatto a matrici singolari.\n",
    "\n",
    "La matrice è ben condizionata, quindi il metodo delle Equazioni Normali prevale rispetto a QR Least Squares.\n",
    "\n",
    "#### - Matrice A3\n",
    "Matrice ben condizionata, grande e sparsa, sinonimo di metodi iterativi. Non è definita positiva, ma è a diagonale strettamente dominante — Jacobi è il metodo ideale in questo caso."
   ]
  },
  {
   "cell_type": "code",
   "execution_count": 8,
   "id": "8753c819-d943-4829-81b5-25d1d961854e",
   "metadata": {},
   "outputs": [
    {
     "name": "stdout",
     "output_type": "stream",
     "text": [
      "[[1.]\n",
      " [1.]\n",
      " [1.]\n",
      " [1.]\n",
      " [1.]\n",
      " [1.]\n",
      " [1.]\n",
      " [1.]\n",
      " [1.]\n",
      " [1.]\n",
      " [1.]\n",
      " [1.]\n",
      " [1.]\n",
      " [1.]\n",
      " [1.]]\n"
     ]
    }
   ],
   "source": [
    "def solve_cholesky(A, b):\n",
    "    L = sc.linalg.cholesky(A, lower=True)\n",
    "    y, flag = Lsolve(L, b)\n",
    "    if flag == 0:\n",
    "        return Usolve(L.T, y)[0]\n",
    "    return None\n",
    "\n",
    "# Soluzione A1\n",
    "print(solve_cholesky(A1, b1))"
   ]
  },
  {
   "cell_type": "code",
   "execution_count": 5,
   "id": "18651c88-977e-4ebb-983f-38bd90e9f1bd",
   "metadata": {},
   "outputs": [
    {
     "name": "stdout",
     "output_type": "stream",
     "text": [
      "[[1.]\n",
      " [1.]\n",
      " [1.]\n",
      " [1.]\n",
      " [1.]\n",
      " [1.]]\n"
     ]
    }
   ],
   "source": [
    "def eq_norm(A, b):\n",
    "    G = A.T @ A\n",
    "    return solve_cholesky(G, A.T @ b)\n",
    "\n",
    "# Soluzione A2\n",
    "print(eq_norm(A2, b2))"
   ]
  },
  {
   "cell_type": "code",
   "execution_count": 22,
   "id": "63382334-a7e6-4862-b3a1-cecfe589a159",
   "metadata": {},
   "outputs": [
    {
     "name": "stdout",
     "output_type": "stream",
     "text": [
      "Risultato: [1. 1. 1. 1. 1. 1. 1. 1. 1. 1. 1. 1. 1. 1. 1. 1. 1. 1. 1. 1. 1. 1. 1. 1.\n",
      " 1. 1. 1. 1. 1. 1. 1. 1. 1. 1. 1. 1. 1. 1. 1. 1. 1. 1. 1. 1. 1. 1. 1. 1.\n",
      " 1. 1. 1. 1. 1. 1. 1. 1. 1. 1. 1. 1. 1. 1. 1. 1. 1. 1. 1. 1. 1. 1. 1. 1.\n",
      " 1. 1. 1. 1. 1. 1. 1. 1. 1. 1. 1. 1. 1. 1. 1. 1. 1. 1. 1. 1. 1. 1. 1. 1.\n",
      " 1. 1. 1. 1. 1. 1. 1. 1. 1. 1. 1. 1. 1. 1. 1. 1. 1. 1. 1. 1. 1. 1. 1. 1.\n",
      " 1. 1. 1. 1. 1. 1. 1. 1. 1. 1. 1. 1. 1. 1. 1. 1. 1. 1. 1. 1. 1. 1. 1. 1.\n",
      " 1. 1. 1. 1. 1. 1. 1. 1. 1. 1. 1. 1. 1. 1. 1. 1. 1. 1. 1. 1. 1. 1. 1. 1.\n",
      " 1. 1. 1. 1. 1. 1. 1. 1. 1. 1. 1. 1. 1. 1. 1. 1. 1. 1. 1. 1. 1. 1. 1. 1.\n",
      " 1. 1. 1. 1. 1. 1. 1. 1. 1. 1. 1. 1. 1. 1. 1. 1. 1. 1. 1. 1. 1. 1. 1. 1.\n",
      " 1. 1. 1. 1. 1. 1. 1. 1. 1.]\n",
      "Calcolato in 16/20000 iterazioni\n"
     ]
    },
    {
     "data": {
      "image/png": "[encoded data removed]",
      "text/plain": [
       "<Figure size 640x480 with 1 Axes>"
      ]
     },
     "metadata": {},
     "output_type": "display_data"
    }
   ],
   "source": [
    "def jacobi(A, b, x0, maxit, toll=np.spacing(1)):\n",
    "    d = np.diag(A)\n",
    "    D = np.diag(d)\n",
    "    L = np.tril(A, -1)\n",
    "    U = np.triu(A, 1)\n",
    "\n",
    "    M = D\n",
    "    N = -(U + L)\n",
    "\n",
    "    T = np.linalg.inv(M) @ N\n",
    "    q = np.linalg.inv(M) @ b\n",
    "\n",
    "    x_curr = x0.copy()\n",
    "    attempts = [ x_curr.copy() ]\n",
    "    errors = [ np.inf ]\n",
    "    \n",
    "    while len(attempts) < maxit:\n",
    "        x_next = T @ x_curr + q\n",
    "        attempts.append(x_next.copy())\n",
    "        \n",
    "        error = np.linalg.norm(x_next - x_curr) / (np.linalg.norm(x_curr) if np.linalg.norm(x_curr) != 0 else 1)\n",
    "        errors.append(error)\n",
    "\n",
    "        if np.abs(error) < toll:\n",
    "            break\n",
    "        \n",
    "        x_curr = x_next\n",
    "\n",
    "    return attempts[-1], len(attempts), errors\n",
    "\n",
    "# Soluzione A3\n",
    "x0 = np.zeros(A3.shape[1])\n",
    "maxit=20_000\n",
    "jac_res, jac_attempts, jac_errors = jacobi(A3, b3.reshape((A3.shape[1])), x0, 20_000)\n",
    "print(\"Risultato:\", jac_res)\n",
    "print(f\"Calcolato in {jac_attempts}/{maxit} iterazioni\")\n",
    "plt.semilogy(range(jac_attempts), jac_errors)\n",
    "plt.grid(True)\n",
    "plt.legend([\"Errore di Jacobi\"])\n",
    "plt.show()"
   ]
  },
  {
   "cell_type": "markdown",
   "id": "6c837c7a-fc8d-4541-9a7d-0315589b6b77",
   "metadata": {},
   "source": [
    "# Esercizio 2"
   ]
  },
  {
   "cell_type": "markdown",
   "id": "602927f7-4366-4f99-9fe6-5fb4ee0ece45",
   "metadata": {},
   "source": [
    "Data l'equazione di 2° grado $$\\frac{1}{2} x^2+2bx-c=0$$"
   ]
  },
  {
   "cell_type": "markdown",
   "id": "d96ecd58-1419-4a72-9f65-035faa6cbffa",
   "metadata": {},
   "source": [
    "con $b=10^7, c=10^{-i},i=-5,\\cdots,12 $"
   ]
  },
  {
   "cell_type": "markdown",
   "id": "c5f0c800-a638-4df7-b38d-a715ef81f808",
   "metadata": {},
   "source": [
    "- a) Scrivere le due formule algebriche per ricavare i valori delle 2 soluzioni\n",
    "\n",
    "                                                                                    1 punto"
   ]
  },
  {
   "cell_type": "code",
   "execution_count": 17,
   "id": "810eb2d6-53ca-4edd-a638-75794b527349",
   "metadata": {},
   "outputs": [
    {
     "name": "stdout",
     "output_type": "stream",
     "text": [
      "[ -9999999.99875     -9999999.999875    -9999999.9999875\n",
      "  -9999999.99999875  -9999999.99999988  -9999999.99999999\n",
      " -10000000.         -10000000.         -10000000.\n",
      " -10000000.         -10000000.         -10000000.\n",
      " -10000000.         -10000000.         -10000000.\n",
      " -10000000.         -10000000.         -10000000.        ]\n",
      "[-1.24999974e-03 -1.25000253e-04 -1.25002116e-05 -1.24983490e-06\n",
      " -1.24797225e-07 -1.21071935e-08 -9.31322575e-10  0.00000000e+00\n",
      "  0.00000000e+00  0.00000000e+00  0.00000000e+00  0.00000000e+00\n",
      "  0.00000000e+00  0.00000000e+00  0.00000000e+00  0.00000000e+00\n",
      "  0.00000000e+00  0.00000000e+00]\n"
     ]
    }
   ],
   "source": [
    "def get_x1(a, b, c):\n",
    "    return (-b - np.sqrt(b**2 - 4*a*c)) / 2*a\n",
    "\n",
    "def get_x2(a, b, c):\n",
    "    return (-b + np.sqrt(b**2 - 4*a*c)) / 2*a\n",
    "\n",
    "i_range = np.arange(-5, 12.1)\n",
    "b_val = 2*(10**7)\n",
    "c_vals = 10**(-i_range)\n",
    "a_val = 1/2\n",
    "\n",
    "x1s = get_x1(a_val, b_val, c_vals)\n",
    "x2s = get_x2(a_val, b_val, c_vals)\n",
    "\n",
    "print(x1s)\n",
    "print(x2s)"
   ]
  },
  {
   "cell_type": "markdown",
   "id": "ee1b4232-f62d-46b2-83e6-c19496fd56ef",
   "metadata": {},
   "source": [
    "- b) Studiare l'indice di condizionamento delle 2 formule algebriche, facendo uso del risultato teorico visto a lezione riguardo l'indice di condizionamento della valutazione di una funzione. (Spiegare il significato di problema mal condizionato) e dire quale delle due formule è malcondizionata. Per quali valori di $c$ il problema risulta ben condizionato?\n",
    "\n",
    "                                                                                    5 punti"
   ]
  },
  {
   "cell_type": "code",
   "execution_count": 34,
   "id": "c5c9255b-674b-4600-bda8-143a70ae58cd",
   "metadata": {},
   "outputs": [
    {
     "name": "stdout",
     "output_type": "stream",
     "text": [
      "[0.85714286 0.85714286 0.85714286 0.85714286 0.85714286 0.85714286\n",
      " 0.85714286 0.85714286 0.85714286 0.85714286 0.85714286 0.85714286\n",
      " 0.85714286 0.85714286 0.85714286 0.85714286 0.85714286 0.85714286]\n",
      "[0.33333329 0.33333378 0.3333371  0.33330398 0.33297265 0.32627618\n",
      " 0.27141796 0.         0.         0.         0.         0.\n",
      " 0.         0.         0.         0.         0.         0.        ]\n"
     ]
    },
    {
     "data": {
      "image/png": "[encoded data removed]",
      "text/plain": [
       "<Figure size 640x480 with 1 Axes>"
      ]
     },
     "metadata": {},
     "output_type": "display_data"
    }
   ],
   "source": [
    "fp = lambda x, b: x + 2*b\n",
    "f = lambda x, b, c: .5 * x**2 + 2*b*x - c\n",
    "\n",
    "# K = |(f'(x)·x)/f(x)|\n",
    "K1 = np.abs((fp(x1s, b_val) * x1s)/f(x1s, b_val, c_vals))\n",
    "K2 = np.abs((fp(x2s, b_val) * x2s)/f(x2s, b_val, c_vals))\n",
    "print(K1)\n",
    "print(K2)\n",
    "\n",
    "plt.plot(\n",
    "    i_range, K1, \"r\", \n",
    "    i_range, K2, \"g\"\n",
    ")\n",
    "plt.legend([\"Condizionamento $x_1$\", \"Condizionamento $x_2$\"])\n",
    "plt.grid(True)\n",
    "plt.show()"
   ]
  },
  {
   "cell_type": "markdown",
   "id": "748f2364-29da-4c31-8bcf-cb3566dc0dac",
   "metadata": {},
   "source": [
    "- c) Nel caso in cui una delle due formule risulti mal condizionata, proporre una soluzione algebricamente equivalente che non sia malcondizionata.\n",
    "\n",
    "                                                                                    3 punti"
   ]
  },
  {
   "cell_type": "markdown",
   "id": "a37c8888-3dfe-4ea5-a93b-e0adab565e1b",
   "metadata": {},
   "source": [
    "                                                                        Totale 9 punti"
   ]
  },
  {
   "cell_type": "markdown",
   "id": "911860d3-45d8-45fc-99f2-bf79c64f1a80",
   "metadata": {},
   "source": [
    "## Domanda intelligenza artificiale"
   ]
  },
  {
   "cell_type": "markdown",
   "id": "31f72b3e-3533-4866-bf02-44fea1b7c825",
   "metadata": {},
   "source": [
    " Limiti delle reti MLP (multilayer Perceptron) ed introduzione delle Reti neurali Convoluzionali. \n",
    "- Architettura di una rete neurale convoluzionale: strati convoluzionali, attivazione non lineare e pooling + parte fully connected.\n",
    "- Loss function per il task della regressione.  Training di una rete. \n",
    "- Cenni sull'algoritmo di backpropagation per il calcolo delle derivate parziale della funzione costo rispetto ai pesi ditutti i layer .\n",
    "- Tecniche di Ottimizzazione: metodo di discesa del gradient batch, metodo del gradiente stocastico (SGD) ,metodo del gradiente stocastico minibatch.\n",
    "                                                                                [7  punti]\n"
   ]
  },
  {
   "cell_type": "code",
   "execution_count": null,
   "id": "5503e7f7-75e3-4f25-adcd-0a4feff1bf4a",
   "metadata": {},
   "outputs": [],
   "source": []
  }
 ],
 "metadata": {
  "kernelspec": {
   "display_name": "Python 3 (ipykernel)",
   "language": "python",
   "name": "python3"
  },
  "language_info": {
   "codemirror_mode": {
    "name": "ipython",
    "version": 3
   },
   "file_extension": ".py",
   "mimetype": "text/x-python",
   "name": "python",
   "nbconvert_exporter": "python",
   "pygments_lexer": "ipython3",
   "version": "3.12.0"
  }
 },
 "nbformat": 4,
 "nbformat_minor": 5
}
