{
 "cells": [
  {
   "cell_type": "markdown",
   "id": "bf169812-94dc-4b34-83ff-c84a3e29571a",
   "metadata": {},
   "source": [
    "## Esercitazione 6 - 25 Marzo 2025 - Soluzione"
   ]
  },
  {
   "cell_type": "markdown",
   "id": "6776a84b-7a0a-4001-bb1c-2316249e1bb4",
   "metadata": {},
   "source": [
    "Scrivere le funzioni python `bisezione.py`, `falsi.py`, `corde.py`, `secanti.py`,`newton.py` che implementino rispettivamente il metodo di bisezione, di falsa posizione, delle corde, delle secanti e di Newton.\n",
    "\n",
    "Le funzioni `bisezione.py`, `falsi.py` devono assumere come input:\n",
    "\n",
    "-  gli estremi dell'intervallo [a,b], dominio di f.\n",
    "-  il nome `fname` della funzione di cui calcolare lo zero\n",
    "-  tol: tolleranza per il test di arresto.\n",
    "    Nel caso del metodo di bisezione e di falsa posizione si considera per il test di arresto l’ampiezza del sottointervallo confrontata con tolx.\n",
    "-  nmax= numero massimo di iterazioni\n",
    "    \n",
    "In output:\n",
    "-      lo zero della funzione\n",
    "-      il numero di iterazioni effettuate\n",
    "-      una lista contenente tutti gli iterati xk\n",
    "\n"
   ]
  },
  {
   "cell_type": "code",
   "execution_count": 5,
   "id": "f6c8cf9a-1306-4a0e-ad8d-8cbb59caf6c5",
   "metadata": {
    "tags": []
   },
   "outputs": [],
   "source": [
    "import math"
   ]
  },
  {
   "cell_type": "code",
   "execution_count": 4,
   "id": "50986ef9-6527-49fc-8dee-7b8d9d4c05b2",
   "metadata": {
    "tags": []
   },
   "outputs": [],
   "source": [
    "def sign(x):\n",
    "  \"\"\"\n",
    "  Funzione segno che restituisce 1 se x è positivo, 0 se x è zero e -1 se x è negativo.\n",
    "  \"\"\"\n",
    "  return math.copysign(1, x)"
   ]
  },
  {
   "cell_type": "code",
   "execution_count": 3,
   "id": "efc19ce4-f606-47f2-9028-0c722385b1f1",
   "metadata": {
    "tags": []
   },
   "outputs": [],
   "source": [
    "def metodo_bisezione(fname, a, b, tolx):\n",
    " \"\"\"\n",
    " Implementa il metodo di bisezione per il calcolo degli zeri di un'equazione non lineare.\n",
    "\n",
    " Parametri:\n",
    "  f: La funzione da cui si vuole calcolare lo zero.\n",
    "  a: L'estremo sinistro dell'intervallo di ricerca.\n",
    "  b: L'estremo destro dell'intervallo di ricerca.\n",
    "  tol: La tolleranza di errore.\n",
    "\n",
    " Restituisce:\n",
    "  Lo zero approssimato della funzione, il numero di iterazioni e la lista di valori intermedi.\n",
    " \"\"\"\n",
    " fa=fname(a)\n",
    " fb=fname(b)\n",
    " if sign(fa)*sign(fb)>=0:\n",
    "     print(\"Non è possibile applicare il metodo di bisezione \\n\")\n",
    "     return None, None,None\n",
    "\n",
    " it = 0\n",
    " v_xk = []\n",
    "\n",
    " \n",
    " while abs(b - a) > tolx:\n",
    "    xk = a+(b-a)/2\n",
    "    v_xk.append(xk)\n",
    "    it += 1\n",
    "    fxk=fname(xk)\n",
    "    if fxk==0:\n",
    "      return xk, it, v_xk\n",
    "\n",
    "    if sign(fa)*sign(fxk)<0:  #la radice si trova nell'intervallo [a, xk].\n",
    "      b = xk\n",
    "      fb=fxk\n",
    "    elif sign(fxk)*sign(fb)<0:   #la radice si trova nell'intervallo [xk, b].\n",
    "      a = xk\n",
    "      fa=fxk\n",
    "\n",
    " \n",
    " return xk, it, v_xk\n",
    "\n",
    "\n"
   ]
  },
  {
   "cell_type": "code",
   "execution_count": 2,
   "id": "927f9270-ae77-47e4-8dcd-7779fbbd9a16",
   "metadata": {
    "tags": []
   },
   "outputs": [],
   "source": [
    "def falsi(fname, a, b, maxit, tolx,tolf):\n",
    " \"\"\"\n",
    " Implementa il metodo di falsa posizione per il calcolo degli zeri di un'equazione non lineare.\n",
    "\n",
    " Parametri:\n",
    "  f: La funzione da cui si vuole calcolare lo zero.\n",
    "  a: L'estremo sinistro dell'intervallo di ricerca.\n",
    "  b: L'estremo destro dell'intervallo di ricerca.\n",
    "  tol: La tolleranza di errore.\n",
    "\n",
    " Restituisce:\n",
    "  Lo zero approssimato della funzione, il numero di iterazioni e la lista di valori intermedi.\n",
    " \"\"\"\n",
    " fa=fname(a);\n",
    " fb=fname(b);\n",
    " if sign(fa)*sign(fb)>=0:\n",
    "     print(\"Non è possibile applicare il metodo di falsa posizione \\n\")\n",
    "     return None, None,None\n",
    "\n",
    " it = 0\n",
    " v_xk = []\n",
    " \n",
    " fxk=tolf+1\n",
    "\n",
    " errore=tolx+1\n",
    " xprec=a\n",
    " \n",
    " while it < maxit  and abs(fxk) > tolf and errore > tolx :\n",
    "    xk = a-fa*(b-a)/(fb-fa)\n",
    "    v_xk.append(xk)\n",
    "    fxk=fname(xk)\n",
    "    if fxk==0:\n",
    "      return xk, it, v_xk\n",
    "\n",
    "    if sign(fa)*sign(fxk)<0:  #la radice si trova nell'intervallo [a, xk].\n",
    "      b = xk\n",
    "      fb=fxk\n",
    "    elif sign(fxk)*sign(fb)<0:   #la radice si trova nell'intervallo [xk, b].\n",
    "      a = xk\n",
    "      fa=fxk\n",
    "\n",
    "    if xk!=0:\n",
    "         errore=abs(xk-xprec)/abs(xk)\n",
    "    else:\n",
    "         errore=abs(xk-xprec)\n",
    "    \n",
    "    xprec=xk\n",
    "    it += 1\n",
    " return xk, it, v_xk\n"
   ]
  },
  {
   "cell_type": "code",
   "execution_count": 6,
   "id": "f22cc48f-1b52-4fbc-bbae-98e10bb6cfaf",
   "metadata": {
    "tags": []
   },
   "outputs": [
    {
     "data": {
      "image/png": "[encoded data removed]",
      "text/plain": [
       "<Figure size 640x480 with 1 Axes>"
      ]
     },
     "metadata": {},
     "output_type": "display_data"
    },
    {
     "name": "stdout",
     "output_type": "stream",
     "text": [
      "Lo zero approssimato da bisezione è:  -2.2737367544323206e-13 Valore di f in  -2.2737367544323206e-13 ---> 4.547473508864641e-13 Numero di iterazioni  42\n",
      "Lo zero approssimato da falsa posizione è:  3.2573943542502093e-13 Valore di f in  3.2573943542502093e-13 ---> -6.514788708500419e-13 Numero di iterazioni  22\n"
     ]
    },
    {
     "data": {
      "text/plain": [
       "<matplotlib.legend.Legend at 0x1046ba060>"
      ]
     },
     "execution_count": 6,
     "metadata": {},
     "output_type": "execute_result"
    },
    {
     "data": {
      "image/png": "[encoded data removed]",
      "text/plain": [
       "<Figure size 640x480 with 1 Axes>"
      ]
     },
     "metadata": {},
     "output_type": "display_data"
    }
   ],
   "source": [
    "# Esempio di utilizzo\n",
    "import numpy as np\n",
    "import matplotlib.pyplot as plt\n",
    " \n",
    " \n",
    "scelta=int(input(\"Scegli funzione di cui calcolare lo zero\"))\n",
    "\n",
    "match scelta:\n",
    "    \n",
    "    case 1:\n",
    "        f= lambda x:x**3-6*x**2-4*x+24\n",
    "        #Intervallo di definizione\n",
    "        a = -3\n",
    "        b = 8\n",
    "        alfa=-2  #Uno dei valori in cui si annulla la funzioe\n",
    "        #Intervallo in cui è contenuta la prima soluzione\n",
    "        a1=-3.0\n",
    "        b1=0.0\n",
    "    case 2:\n",
    "        f= lambda x: np.exp(-x)-(x+1)\n",
    "        alfa=0\n",
    "        a1 = -1\n",
    "        b1 = 2\n",
    "        a=a1\n",
    "        b=b1\n",
    "    case 3:\n",
    "        f=  lambda x: np.log2(x+3)-2 #log_b(a)=log(a)/log(b)\n",
    "        alfa= 1\n",
    "        a1 = -1\n",
    "        b1 = 2\n",
    "        a=a1\n",
    "        b=b1\n",
    "\n",
    "    case 4:\n",
    "        f= lambda x: np.sqrt(x)-(x**2)/4 \n",
    "        alfa=2.0**(4/3.0)\n",
    "        a1 = 1\n",
    "        b1 = 3\n",
    "        a=a1\n",
    "        b=b1\n",
    "\n",
    "xx=np.linspace(a,b,100)\n",
    "plt.plot(xx,f(xx),xx,np.zeros_like(xx))\n",
    " \n",
    "plt.show()\n",
    "tolx = 1e-12\n",
    "tolf=1e-12\n",
    "maxit=1000\n",
    "zero,it,xk = metodo_bisezione(f, a1, b1, tolx)\n",
    " \n",
    "zero_f,it_f,xk_f = falsi(f, a1, b1, maxit, tolx,tolf)\n",
    " \n",
    " \n",
    "xk=np.array(xk)\n",
    "\n",
    "if (zero!=None):\n",
    "    print(\"Lo zero approssimato da bisezione è: \",zero, \"Valore di f in \",zero, \"--->\", f(zero), \"Numero di iterazioni \",it)\n",
    "    ek=np.abs(xk-alfa)\n",
    "    plt.semilogy(range(it),ek,'-s')\n",
    "\n",
    "xk_f=np.array(xk_f)\n",
    "if (zero_f!=None):\n",
    "    print(\"Lo zero approssimato da falsa posizione è: \",zero_f, \"Valore di f in \",zero_f, \"--->\", f(zero_f),\"Numero di iterazioni \",it_f)\n",
    "    ek_f=np.abs(xk_f-alfa)\n",
    "    plt.semilogy(range(it_f),ek_f,'-s')\n",
    "\n",
    "plt.legend(['Bisezione','Falsa Posizione'])"
   ]
  },
  {
   "cell_type": "markdown",
   "id": "22339d84-a5cc-4950-a537-104611a315f8",
   "metadata": {},
   "source": [
    " Confrontare i metodi sopra implementati nei casi seguenti:\n",
    "- f(x) = $x^3-6x^2-4x+24$ in [-3,8], tolx = 1.e − 12, tolf = 1.e − 12, (soluzione esatta alfa=-2,2,6);\n",
    "- f(x) = exp(−x) − (x + 1) in [−1, 2]  tolx = 1.e − 12, tolf = 1.e − 12, (soluzione esatta alfa=0);\n",
    "- f(x) = log2(x + 3) − 2 in [−1, 2]  tolx = 1.e − 12, tolf = 1.e − 12, (soluzione esatta alfa=1);\n",
    "- f(x) =sqrt(x)-(x^2)/4 in [1, 3]  tolx = 1.e − 12, tolf =1.e − 12, (soluzione esatta alfa=2**(4/3))\n",
    "\n",
    "Mostrare in un grafico in scala semilogaritmica sulle ordinate (comando semilogy) l’andamento di ek = |xk − α|, k = 1, ..., nit, sapendo che α = 0, 1, 2**(4/3) nei casi 2-4.\n",
    " "
   ]
  },
  {
   "cell_type": "markdown",
   "id": "d9787fdd-725e-4803-b148-8a137e4335c8",
   "metadata": {},
   "source": [
    "## Esercizio 3\n",
    "Utilizzare il metodo di bisezione per calcolare la radice quadrata di 2. Analizzate i risultati."
   ]
  },
  {
   "cell_type": "code",
   "execution_count": 73,
   "id": "d782cd98-8b02-4df5-8fb8-9b013db95d64",
   "metadata": {
    "tags": []
   },
   "outputs": [
    {
     "data": {
      "image/png": "[encoded data removed]",
      "text/plain": [
       "<Figure size 640x480 with 1 Axes>"
      ]
     },
     "metadata": {},
     "output_type": "display_data"
    }
   ],
   "source": [
    "#Calcolare il la radice quadrata di 2 equivale a calcolare lo zero della funzione x**2-2 nel semiasse positivo\n",
    "f4= lambda x: x**2-2\n",
    "\n",
    "a=1.0\n",
    "b=2.0\n",
    "xx=np.linspace(a,b,100)\n",
    "plt.plot(xx,f4(xx),xx,np.zeros_like(xx))\n",
    "plt.show()\n",
    "tolx = 1e-12\n",
    "tolf=1e-12\n",
    "maxit=1000\n",
    "zero_b_4,it_b_4,xk_b_4 = metodo_bisezione(f4, a, b, tolx)\n",
    "\n"
   ]
  },
  {
   "cell_type": "code",
   "execution_count": 74,
   "id": "95f96470-2c6e-4027-aa1b-f5ec1d9dffb6",
   "metadata": {
    "tags": []
   },
   "outputs": [
    {
     "name": "stdout",
     "output_type": "stream",
     "text": [
      "zero = 1.4142135623724243  numero di iterazioni  40\n"
     ]
    }
   ],
   "source": [
    "alfa=np.sqrt(2)\n",
    "err_rel_bis_4=np.abs(np.array(xk_b_4)-alfa)\n",
    "print(\"zero =\",zero_b_4,\" numero di iterazioni \",it_b_4)"
   ]
  },
  {
   "cell_type": "code",
   "execution_count": 71,
   "id": "d77b5619-e0af-4ce2-80c1-fb5a93ecee58",
   "metadata": {
    "tags": []
   },
   "outputs": [
    {
     "data": {
      "text/plain": [
       "<matplotlib.legend.Legend at 0x144e92136d0>"
      ]
     },
     "execution_count": 71,
     "metadata": {},
     "output_type": "execute_result"
    },
    {
     "data": {
      "image/png": "[encoded data removed]",
      "text/plain": [
       "<Figure size 640x480 with 1 Axes>"
      ]
     },
     "metadata": {},
     "output_type": "display_data"
    }
   ],
   "source": [
    "plt.semilogy(range(it_b_4),err_rel_bis_4,'r-o')\n",
    "plt.legend(['Bisezione'])"
   ]
  },
  {
   "cell_type": "markdown",
   "id": "f8716ba1-1fd4-4baf-a874-29d2ac59e32f",
   "metadata": {},
   "source": [
    "## Esercizio 3\n",
    "Scrivere una funzione numpy che calcola la norma infinito e la norma 1 di un vettore ed una matrice  e testarla su vettori e matrici  a propria scelta. Confrontarne i risultati con quelli ottenuti utilizzando la funzione norm di numpy.linalg\n",
    "\n",
    "(Ricorda la formula della norma infinito e della norma 1 di una matrice\n",
    "$||A||_\\infty= \\max_{j=1,n} \\sum_{i} |a_{ij}| $\n",
    "$\\quad ||A||_1= \\max_{i=1,n} \\sum_{j} |a_{ij}| $)"
   ]
  },
  {
   "cell_type": "code",
   "execution_count": 75,
   "id": "00137e2d-76e6-4287-87ec-44c66dfdb496",
   "metadata": {
    "tags": []
   },
   "outputs": [],
   "source": [
    "  \n",
    "#Calcolo della norma 1\n",
    "def mynorma1(B):\n",
    "    c=np.sum(np.abs(B),axis=0)  #equivale a sommare gli elementi di tutte le colonne \n",
    "    n1=np.max(c)\n",
    "    return n1"
   ]
  },
  {
   "cell_type": "code",
   "execution_count": 76,
   "id": "3569c807-75be-4fe2-ad2d-efb5f565554b",
   "metadata": {
    "tags": []
   },
   "outputs": [],
   "source": [
    "#Calcolo della norma infinito\n",
    "def mynormainf(B):\n",
    "    c=np.sum(np.abs(B),axis=1)  #equivale a sommare gli elementi di tutte le righe\n",
    "    ninf=np.max(c)\n",
    "    return ninf "
   ]
  },
  {
   "cell_type": "code",
   "execution_count": 77,
   "id": "5c653174-6811-45d6-90d9-476aece89ee8",
   "metadata": {
    "tags": []
   },
   "outputs": [
    {
     "name": "stdout",
     "output_type": "stream",
     "text": [
      "mynorma1= 14.0\n",
      "norma 1 con numpy.linalg.norm  14.0\n",
      "mynormainf= 5.0\n",
      "norma inf con numpy.linalg.norm  5.0\n"
     ]
    }
   ],
   "source": [
    "B=np.array([[2.0],[3],[4],[5]])\n",
    "norma1=mynorma1(B)\n",
    "normainf=mynormainf(B)\n",
    "print(\"mynorma1=\", norma1)\n",
    "print(\"norma 1 con numpy.linalg.norm \", np.linalg.norm(B,1))#Calcolo della norma 1\n",
    "print(\"mynormainf=\", normainf)\n",
    "print(\"norma inf con numpy.linalg.norm \", np.linalg.norm(B,np.inf))"
   ]
  },
  {
   "cell_type": "code",
   "execution_count": 78,
   "id": "a4459299-8d71-4f3f-b3fa-452a0115b233",
   "metadata": {
    "tags": []
   },
   "outputs": [
    {
     "name": "stdout",
     "output_type": "stream",
     "text": [
      "my norma 1 --> 12.0\n",
      "norma 1 con numpy.linalg.norm  12.0\n"
     ]
    }
   ],
   "source": [
    "x=np.array([[2.0],[-3.0],[7.0]])\n",
    "print(\"my norma 1 -->\",mynorma1(x))\n",
    "print(\"norma 1 con numpy.linalg.norm \",np.linalg.norm(x,1))"
   ]
  },
  {
   "cell_type": "markdown",
   "id": "221db509-8731-428a-91db-bf752fc4f5f2",
   "metadata": {},
   "source": [
    "## Esercizio 4\n",
    "Implementare una funzione che calcola la norma 2 di una  matrice facendo uso della funzione eigvals del pacchetto numpy.linalg, (np.linalg.eigvals(A)). Testarla sulla matrice A=np.array([[4,-1,6],[2,3,-3],[1,-2,9/2]])   e confrontarne i risultati con quelli ottenuti utilizzando la funzione norm di numpy.linalg"
   ]
  },
  {
   "cell_type": "code",
   "execution_count": null,
   "id": "a5649921-7f9d-44e6-8053-e0e8cbec0262",
   "metadata": {
    "tags": []
   },
   "outputs": [],
   "source": [
    "A=np.array([[4,-1,6],[2,3,-3],[1,-2,9/2]])"
   ]
  },
  {
   "cell_type": "code",
   "execution_count": 80,
   "id": "49435b18-a5cf-4d39-80fc-844998af331d",
   "metadata": {
    "tags": []
   },
   "outputs": [],
   "source": [
    "def mynorma2(A):\n",
    "    M=A.T@A\n",
    "    autovalori=np.linalg.eigvals(M)\n",
    "    n2=np.sqrt(np.max(np.abs(autovalori)))\n",
    "    return n2"
   ]
  },
  {
   "cell_type": "code",
   "execution_count": 81,
   "id": "706a298a-e39d-4694-ab1d-5adc20917686",
   "metadata": {
    "tags": []
   },
   "outputs": [
    {
     "name": "stdout",
     "output_type": "stream",
     "text": [
      "mynorma 2 9.056251013341882\n",
      "norma 2 con numpy.linalg.norm  9.056251013341878\n"
     ]
    }
   ],
   "source": [
    "A=np.array([[4,-1,6],[2,3,-3],[1,-2,9/2]])\n",
    "norma2=mynorma2(A)\n",
    "print(\"mynorma 2\",norma2)\n",
    "print(\"norma 2 con numpy.linalg.norm \", np.linalg.norm(A,2))"
   ]
  },
  {
   "cell_type": "code",
   "execution_count": null,
   "id": "5abdc112-d8c9-4f58-96da-8aefa3a6b71a",
   "metadata": {},
   "outputs": [],
   "source": []
  },
  {
   "cell_type": "code",
   "execution_count": null,
   "id": "975ea132-bf77-4012-bc29-7c202d4b9e25",
   "metadata": {},
   "outputs": [],
   "source": []
  }
 ],
 "metadata": {
  "kernelspec": {
   "display_name": ".venv",
   "language": "python",
   "name": "python3"
  },
  "language_info": {
   "codemirror_mode": {
    "name": "ipython",
    "version": 3
   },
   "file_extension": ".py",
   "mimetype": "text/x-python",
   "name": "python",
   "nbconvert_exporter": "python",
   "pygments_lexer": "ipython3",
   "version": "3.12.0"
  }
 },
 "nbformat": 4,
 "nbformat_minor": 5
}
