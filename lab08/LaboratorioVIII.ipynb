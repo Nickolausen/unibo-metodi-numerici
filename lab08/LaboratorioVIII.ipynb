{
 "cells": [
  {
   "cell_type": "markdown",
   "id": "f7105091-a87d-4561-bb63-c8ac815faf37",
   "metadata": {},
   "source": [
    "## Condizionamento del problema della soluzione di un sistema lineare"
   ]
  },
  {
   "cell_type": "code",
   "execution_count": 39,
   "id": "65738c62-aed5-4345-85f5-22df56f70eda",
   "metadata": {},
   "outputs": [],
   "source": [
    "import numpy as np\n",
    "import scipy as sp"
   ]
  },
  {
   "cell_type": "markdown",
   "id": "2b2f0afd-9374-4f8e-8a7b-eb783ba28fd4",
   "metadata": {},
   "source": [
    "# Esercizio 1\n",
    "- Costruire la matrice di Vandermonde A, generata dal vettore x=[1.0,2.0,...,6.0] utilizzando la funzione np.vander(x, increasing=True) di numpy. \n",
    "- Calcolarne l'indice di condizionamento in norma infinito senza utilizzare la funzione cond di numpy.linalg e poi confrontarne il valore con quello ottenuto utilizzando la funzione.\n",
    "- Considerare il sistema lineare Ax=b  con matrice dei coefficienti A e termine noto costruito in maniera tale che la soluzione esatta sia il vettore x=[1,1,1,1,1,1] (ogni sua componente è 1) e risolverlo usando il metodo solve del modulo linalg di Scipy.\n",
    "- perturbare il vettore dei termini noti della quantità\n",
    "- \n",
    "$$\n",
    "\\delta b = 0.025 \\, \\ast \\,\n",
    "\\left [\n",
    "\\begin{array}{c}\n",
    "1\\\\\n",
    "0\\\\\n",
    "0\\\\\n",
    "0\n",
    "\\end{array}\n",
    "\\right ]\n",
    "$$\n",
    "- Risolvere il sistema con termine noto pertubato $b + \\delta b$ ((usando il metodo solve del modulo linalg di Scipy).\n",
    "- Calcolare l'errore relativo sul termine noto e l'errore relativo sulla soluzione. Cosa si può concludere?\n",
    "\n",
    "N.B. per il calcolo dell'inversa della matrice di A usare la funzione di numpy.linalg.inv(A).\n"
   ]
  },
  {
   "cell_type": "code",
   "execution_count": 45,
   "id": "4ac558bf-840f-4c93-8adb-3883bc6ebc5b",
   "metadata": {},
   "outputs": [
    {
     "name": "stdout",
     "output_type": "stream",
     "text": [
      "Matrice di Vandermonde:\n",
      " [[1.000e+00 1.000e+00 1.000e+00 1.000e+00 1.000e+00 1.000e+00]\n",
      " [1.000e+00 2.000e+00 4.000e+00 8.000e+00 1.600e+01 3.200e+01]\n",
      " [1.000e+00 3.000e+00 9.000e+00 2.700e+01 8.100e+01 2.430e+02]\n",
      " [1.000e+00 4.000e+00 1.600e+01 6.400e+01 2.560e+02 1.024e+03]\n",
      " [1.000e+00 5.000e+00 2.500e+01 1.250e+02 6.250e+02 3.125e+03]\n",
      " [1.000e+00 6.000e+00 3.600e+01 2.160e+02 1.296e+03 7.776e+03]]\n",
      "condizionamento calcolato: 1.204321e+06\n",
      "condizionamento calcolato da numpy: 1.204321e+06\n",
      "Sistema risolto senza perturbazioni:  [[1.]\n",
      " [1.]\n",
      " [1.]\n",
      " [1.]\n",
      " [1.]\n",
      " [1.]]\n",
      "Sistema risolto con perturbazioni:  [[1.15      ]\n",
      " [0.7825    ]\n",
      " [1.12083333]\n",
      " [0.96770833]\n",
      " [1.00416667]\n",
      " [0.99979167]]\n",
      "Errore nella soluzione:  0.2174999999902107\n"
     ]
    }
   ],
   "source": [
    "def infty_norm(A):\n",
    "    return np.max(np.sum(np.abs(A), axis=1))\n",
    "# Così, perchè sono disperato e non ricordo un cazzo\n",
    "def norm_1(A):\n",
    "    return np.max(np.sum(np.abs(A), axis=0))\n",
    "def norm_2(A):\n",
    "    return np.max(np.linalg.eigvals(A @ A.T))\n",
    "x = np.linspace(start=1.0, stop=6.0, num=6)\n",
    "A = np.vander(x, increasing=True)\n",
    "print(\"Matrice di Vandermonde:\\n\", A)\n",
    "my_condizionamento = infty_norm(A) * infty_norm(np.linalg.inv(A))\n",
    "print(\"condizionamento calcolato: {:e}\".format(my_condizionamento))\n",
    "numpy_condizionamento = np.linalg.cond(A, np.inf)\n",
    "print(\"condizionamento calcolato da numpy: {:e}\".format(numpy_condizionamento))\n",
    "\n",
    "# costruzione termine noto 'b'\n",
    "b = np.sum(A, axis=1).reshape((6,1)) \n",
    "b_pert = b.copy()\n",
    "b_pert[0] += 0.025\n",
    "\n",
    "# soluzione esa\n",
    "x_correct = sp.linalg.solve(A, b)\n",
    "x_pert = sp.linalg.solve(A, b_pert)\n",
    "errore_sol = np.linalg.norm(x_pert - x_correct, ord=np.inf) / np.linalg.norm(x_correct, ord=np.inf)\n",
    "\n",
    "print(\"Sistema risolto senza perturbazioni: \", x_correct)\n",
    "print(\"Sistema risolto con perturbazioni: \", x_pert)\n",
    "print(\"Errore nella soluzione: \", errore_sol)"
   ]
  },
  {
   "cell_type": "markdown",
   "id": "1fad1579-04c4-4aae-a840-2ab3120aaf2e",
   "metadata": {},
   "source": [
    "## Esercizio 2\n",
    "Assegnato il sistema lineare $Ax = b$, con\n",
    "$$\n",
    "A =\n",
    "\\left [\n",
    "\\begin{array}{ccc}\n",
    "6 & 63 & 662.2\\\\\n",
    "63 & 662.2 & 6967.8\\\\\n",
    "662.2 & 6967.8 & 73393.5664\n",
    "\\end{array}\n",
    "\\right ], \\qquad\n",
    "b =\n",
    "\\left [\n",
    "\\begin{array}{c}\n",
    "1.1\\\\\n",
    "2.33\\\\\n",
    "1.7\n",
    "\\end{array}\n",
    "\\right ]\n",
    "$$\n",
    "- trovare il vettore soluzione $x$ (usando il metodo solve del modulo linalg di Scipy);\n",
    "- perturbare la matrice dei coefficienti della quantità\n",
    "$$\n",
    "\\delta A =\n",
    "0.01 \\, \\ast \\,\n",
    "\\left [ \\begin{array}{ccc}\n",
    "1 & 0 & 0\\\\\n",
    "0 & 0 & 0\\\\\n",
    "0 & 0 & 0\n",
    "\\end{array}\n",
    "\\right ]\n",
    "$$\n",
    "quindi calcolare l'errore relativo sulla soluzione e confrontarlo con la\n",
    "perturbazione relativa sui dati di ingresso. Cosa si osserva?"
   ]
  },
  {
   "cell_type": "code",
   "execution_count": 55,
   "id": "b3ee4ca6-d7cc-4277-9061-6c8bf139bbae",
   "metadata": {},
   "outputs": [
    {
     "name": "stdout",
     "output_type": "stream",
     "text": [
      "Condizionamento matrice A: 1.975302e+10\n",
      "Errore sui dati: 1.234209e-07\n",
      "Errore sulla soluzione: 9.995082e-01\n"
     ]
    }
   ],
   "source": [
    "# Matrice estremamente mal condizionata\n",
    "A = np.array([\n",
    "    [6, 63, 662.2],\n",
    "    [63, 662.2, 6967.8],\n",
    "    [662.2, 6967.8, 73393.5664]\n",
    "])\n",
    "b = np.array([1.1, 2.33, 1.7])\n",
    "x_correct = sp.linalg.solve(A, b)\n",
    "\n",
    "A_pert = A.copy()\n",
    "A_pert[0][0] += 0.01\n",
    "x_pert = sp.linalg.solve(A_pert, b)\n",
    "\n",
    "condizionamento_A = np.linalg.cond(A, np.inf)\n",
    "print(\"Condizionamento matrice A: {:e}\".format(condizionamento_A))\n",
    "\n",
    "errore_dati = np.linalg.norm(A_pert - A, np.inf) / np.linalg.norm(A, np.inf)\n",
    "print(\"Errore sui dati: {:e}\".format(errore_dati))\n",
    "\n",
    "errore_sol = np.linalg.norm(x_pert - x_correct, np.inf) / np.linalg.norm(x_correct, np.inf)\n",
    "print(\"Errore sulla soluzione: {:e}\".format(errore_sol))"
   ]
  },
  {
   "cell_type": "markdown",
   "id": "3fd35cbb-3eaa-4674-91ff-cf7148cac8b8",
   "metadata": {},
   "source": [
    "## Esercizio 3\n",
    " \n",
    "Assegnato il sistema lineare $Ax = b$, con $A$ matrice di Hilbert di ordine\n",
    "$4$ e $b = [1, 1, 1, 1]^T$,\n",
    " - trovare il vettore soluzione $x$ (usando il metodo solve del modulo linalg di Scipy);\n",
    " -  perturbare il vettore dei termini noti della quantità\n",
    "$$\n",
    "\\delta b = 0.01 \\, \\ast \\,\n",
    "\\left [\n",
    "\\begin{array}{c}\n",
    "1\\\\\n",
    "-1\\\\\n",
    "1\\\\\n",
    "-1\n",
    "\\end{array}\n",
    "\\right ]\n",
    "$$\n",
    "quindi calcolare la soluzione del sistema $A x_p= b_p$ con termine noto $b_p=b+ \\delta b$.\n",
    "Calcolare l'errore relativo sulla soluzione e confrontarlo con la perturbazione relativa sui dati di ingresso. Cosa si osserva?\n",
    "\n",
    "Nota: per la costruzione della matrice di Hilbert usare la funzione hilbert(n) del modulo scipy.linalg\n",
    "(scipy.linalg.hilbert(n))  dove bisogna specificare l'ordine n della matrice."
   ]
  },
  {
   "cell_type": "code",
   "execution_count": 74,
   "id": "ae454932-74b8-4554-b6a3-d5f201571ce4",
   "metadata": {},
   "outputs": [
    {
     "name": "stdout",
     "output_type": "stream",
     "text": [
      "Condizionamento matrice di Hilbert di ordine 4: 2.837500e+04\n",
      "0.010000000000000009 0.7296001237811043\n"
     ]
    }
   ],
   "source": [
    "n = 4\n",
    "A = sp.linalg.hilbert(n)\n",
    "b = np.ones(n)\n",
    "# Particolarmente malcondizionata\n",
    "cond = np.linalg.cond(A, np.inf)\n",
    "print(\"Condizionamento matrice di Hilbert di ordine {}: {:e}\".format(n, cond))\n",
    "b_pert = b.copy()\n",
    "b_pert += np.array([.01,-.01,.01,-.01])\n",
    "\n",
    "x_corr = sp.linalg.solve(A, b)\n",
    "x_pert = sp.linalg.solve(A, b_pert)\n",
    "\n",
    "errore_dati = np.linalg.norm(b_pert - b) / np.linalg.norm(b)\n",
    "errore_sol = np.linalg.norm(x_pert - x_corr) / np.linalg.norm(x_corr)\n",
    "print(errore_dati, errore_sol)\n",
    "\n",
    "# errore dati del 1% --> errore soluzione del 73%!"
   ]
  },
  {
   "cell_type": "markdown",
   "id": "b1d646aa-f01a-4754-85e0-8803dc40b54f",
   "metadata": {},
   "source": [
    "## Metodi diretti per la soluzione numerica di un sistema lineare"
   ]
  },
  {
   "cell_type": "markdown",
   "id": "d49457b8-af07-4729-a33a-dc93547c1a20",
   "metadata": {},
   "source": [
    "## Nota 1.\n",
    "La funzione *scipy.linalg.lu(A)*  , presa in input una matrice A a rango massimo, restituisce in output le matrici $P^T$,L,U,  della fattorizzazione di LU della matrice A in maniera tale che PA=LU (restituisce la matrice di permutazione trasposta)"
   ]
  },
  {
   "cell_type": "code",
   "execution_count": 2,
   "id": "6164dfcc-4ff8-4d35-9ba3-59cae1f5189e",
   "metadata": {
    "tags": []
   },
   "outputs": [
    {
     "name": "stdout",
     "output_type": "stream",
     "text": [
      "A= [[2 1]\n",
      " [3 4]]\n",
      "L= [[1.         0.        ]\n",
      " [0.66666667 1.        ]]\n",
      "U= [[ 3.          4.        ]\n",
      " [ 0.         -1.66666667]]\n",
      "P= [[0. 1.]\n",
      " [1. 0.]]\n",
      "Matrice P*A \n",
      " [[3. 4.]\n",
      " [2. 1.]]\n",
      "Matrice ottenuta moltipicando Le ed U \n",
      " [[3. 4.]\n",
      " [2. 1.]]\n"
     ]
    }
   ],
   "source": [
    "import numpy as np\n",
    "import scipy as sp\n",
    "from scipy.linalg import lu\n",
    "A=np.array([[2,1],[3,4]])\n",
    "PT,L,U=lu(A)  #Restituisce in output la trasposta della matrice di Permutazione\n",
    "P=PT.copy()   #P è la matrice di permutazione\n",
    "print(\"A=\",A)\n",
    "print(\"L=\",L)\n",
    "print(\"U=\",U)\n",
    "print(\"P=\",P)\n",
    "#LU è la fattorizzazione di P*A (terorema 2)\n",
    "A1=P@A # equivale al prodotto matrice x matrice np.dot(P,A)\n",
    "A1Fatt=L@U # equivale a np.dot(L,U)\n",
    "print(\"Matrice P*A \\n\", A1)\n",
    "print(\"Matrice ottenuta moltipicando Le ed U \\n\",A1Fatt)\n"
   ]
  },
  {
   "cell_type": "markdown",
   "id": "76f8f316-d9af-4596-9eed-5aa64f913f1f",
   "metadata": {},
   "source": [
    "## Nota 2\n",
    "La funzione *scipy.linalg.cholesky(a, lower=True)*, presa in input una matrice simmetrica e definta positiva restituisce in output la matrice L triangolare inferiore tale che $A=L \\cdot L^T$. Se la matrice in input non è definita positiva, restituisce un errore."
   ]
  },
  {
   "cell_type": "code",
   "execution_count": 3,
   "id": "162e3ab4-4a37-43d4-9727-6f032595449f",
   "metadata": {
    "tags": []
   },
   "outputs": [
    {
     "name": "stdout",
     "output_type": "stream",
     "text": [
      "[[ 2  1  3]\n",
      " [ 1  5  7]\n",
      " [ 3  7 12]]\n"
     ]
    }
   ],
   "source": [
    "from scipy.linalg import cholesky\n",
    "A=np.array([[2,1,3],[1,5,7],[3,7,12]])\n",
    "print(A)"
   ]
  },
  {
   "cell_type": "code",
   "execution_count": 4,
   "id": "96fd572b-f470-4436-aea2-0bb5da4fdd23",
   "metadata": {
    "tags": []
   },
   "outputs": [
    {
     "name": "stdout",
     "output_type": "stream",
     "text": [
      "[[1.41421356 0.         0.        ]\n",
      " [0.70710678 2.12132034 0.        ]\n",
      " [2.12132034 2.59272486 0.8819171 ]]\n",
      "A1=\n",
      " [[ 2.  1.  3.]\n",
      " [ 1.  5.  7.]\n",
      " [ 3.  7. 12.]]\n"
     ]
    }
   ],
   "source": [
    "L=cholesky(A,lower=True)\n",
    "print(L)\n",
    "A1=L@L.T\n",
    "print(\"A1=\\n\",A1)"
   ]
  },
  {
   "cell_type": "markdown",
   "id": "6760f2a0-ffec-49a1-96f7-ed643109e4d7",
   "metadata": {},
   "source": [
    "## Nota 3\n",
    "La funzione *scipy.linalg.qr(a)*, presa in input una matrice A (nxn)  a rango massimo, restituisce in output le matrici Q (ortogonale di dimensione nxn) ed una matrice R (nxn) triangolare superiore tale che $A=Q \\cdot R$"
   ]
  },
  {
   "cell_type": "code",
   "execution_count": 5,
   "id": "e336d0a6-f2c3-4a7b-a8e3-871e70ca917c",
   "metadata": {
    "tags": []
   },
   "outputs": [
    {
     "name": "stdout",
     "output_type": "stream",
     "text": [
      "Q= [[-0.53452248  0.6882472  -0.49051147]\n",
      " [-0.26726124 -0.6882472  -0.67445327]\n",
      " [-0.80178373 -0.22941573  0.55182541]]\n",
      "R= [[ -3.74165739  -7.48331477 -13.09580085]\n",
      " [  0.          -4.35889894  -5.50597761]\n",
      " [  0.           0.           0.42919754]]\n",
      "[[ 2.  1.  3.]\n",
      " [ 1.  5.  7.]\n",
      " [ 3.  7. 12.]]\n"
     ]
    }
   ],
   "source": [
    "from scipy.linalg import qr\n",
    "A=np.array([[2,1,3],[1,5,7],[3,7,12]])\n",
    "Q,R=qr(A)\n",
    "print(\"Q=\",Q)\n",
    "print(\"R=\",R)\n",
    "A1=Q@R\n",
    "print(A1)"
   ]
  },
  {
   "cell_type": "markdown",
   "id": "270ae20e-08a7-4ab4-a710-c4541a398ec1",
   "metadata": {},
   "source": [
    "## Esercizio 4\n",
    "- si implementi una function LUsolve(P,A,L,U,b) che risolve il sistema lineare Ax=b nel caso di fattorizzazione $PA = LU$ assegnata,\n",
    "combinando i metodi di risoluzione in avanti ed all'indietro  implementati nel file SolveTriangular.py.\n",
    "- si testi sulla matrice A = np.array([[2, 5, 8, 7], [5, 2, 2, 8], [7, 5, 6, 6], [5, 4, 4, 8]]) con termine noto b scelto in maniera tale che la soluzione esatta del sistema lineare sia il vettore formato da tutti 1."
   ]
  },
  {
   "cell_type": "code",
   "execution_count": 83,
   "id": "0631ad4a-c0ce-4e2e-a01b-55a463c75b43",
   "metadata": {},
   "outputs": [
    {
     "name": "stdout",
     "output_type": "stream",
     "text": [
      "A=[[2 5 8 7]\n",
      " [5 2 2 8]\n",
      " [7 5 6 6]\n",
      " [5 4 4 8]]\n",
      "b=[[22]\n",
      " [17]\n",
      " [24]\n",
      " [21]]\n",
      "x=[[1.]\n",
      " [1.]\n",
      " [1.]\n",
      " [1.]]\n"
     ]
    }
   ],
   "source": [
    "from SolveTriangular import Lsolve, Usolve\n",
    "\n",
    "def LUsolve(P, A, L, U, b):\n",
    "    Pb = P @ b\n",
    "    y, ok = Lsolve(L, Pb)\n",
    "    if ok == 0:\n",
    "        return Usolve(U, y)\n",
    "    return None, None\n",
    "\n",
    "A = np.array([\n",
    "    [2, 5, 8, 7], \n",
    "    [5, 2, 2, 8], \n",
    "    [7, 5, 6, 6], \n",
    "    [5, 4, 4, 8]\n",
    "])\n",
    "b = np.sum(A, axis=1).reshape((4,1)) # Sommo gli elementi riga per riga\n",
    "print(f\"A={A}\")\n",
    "print(f\"b={b}\")\n",
    "Pt, L, U = sp.linalg.lu(A)\n",
    "print(f\"x={LUsolve(Pt.T, A, L, U, b)[0]}\")"
   ]
  },
  {
   "cell_type": "markdown",
   "id": "daa94c30-7b43-4ab5-896b-f2b2409a8a56",
   "metadata": {},
   "source": [
    "## Esercizio 5\n",
    "Si implementi una function *solve_nsis(A,B)* per il calcolo della soluzione di un generale sistema lineare $AX = B$, con $X, B$ matrici, che usi la fattorizzazione LU della matrice PA, per risolvere n sistemi lineari: aventi la stessa matrice dei coefficienti A e termine noto l'i-esima colonna della matrice B. \n",
    "Utilizzarla poi per il calcolo dell'inversa delle\n",
    "matrici non singolari\n",
    "$$\n",
    "A=\\left[\n",
    "\\begin{array}{ccc}\n",
    "3 & 5 & 7\\\\\n",
    "2 & 3 & 4\\\\\n",
    "5 & 9 & 11\n",
    "\\end{array}\n",
    "\\right ], \\qquad\n",
    "A=\\left[\n",
    "\\begin{array}{cccc}\n",
    "1 & 2 & 3 & 4\\\\\n",
    "2 & -4 & 6 & 8\\\\\n",
    "-1 & -2 & -3 & -1\\\\\n",
    "5 & 7 & 0 & 1\n",
    "\\end{array}\n",
    "\\right ],\n",
    "$$\n",
    "confrontando i risultati ottenuti con l'output\n",
    "della funzione  *scipy.linalg.inv(A)*"
   ]
  },
  {
   "cell_type": "code",
   "execution_count": 135,
   "id": "079cba50-bcf4-46c1-9c09-8215d4399481",
   "metadata": {},
   "outputs": [
    {
     "name": "stdout",
     "output_type": "stream",
     "text": [
      "my-A1-inv=\n",
      "[[-1.5  4.  -0.5]\n",
      " [-1.  -1.   1. ]\n",
      " [ 1.5 -1.  -0.5]]\n",
      "my-A2-inv=\n",
      "[[-4.16666667e-01  1.75000000e-01 -6.66666667e-02  2.00000000e-01]\n",
      " [ 2.50000000e-01 -1.25000000e-01  4.13612499e-17 -8.16340459e-18]\n",
      " [-1.38888889e-01  2.50000000e-02 -4.22222222e-01 -6.66666667e-02]\n",
      " [ 3.33333333e-01  3.26536184e-18  3.33333333e-01 -8.70763157e-18]]\n",
      "\n",
      "A1_inv=\n",
      "[[-1.5  4.  -0.5]\n",
      " [-1.  -1.   1. ]\n",
      " [ 1.5 -1.  -0.5]]\n",
      "A2_inv=\n",
      "[[-4.16666667e-01  1.75000000e-01 -6.66666667e-02  2.00000000e-01]\n",
      " [ 2.50000000e-01 -1.25000000e-01 -0.00000000e+00 -8.16340459e-18]\n",
      " [-1.38888889e-01  2.50000000e-02 -4.22222222e-01 -6.66666667e-02]\n",
      " [ 3.33333333e-01  4.62592927e-18  3.33333333e-01 -9.25185854e-18]]\n",
      "\n",
      "Errore sulla soluzione 1: 1.480297e-16\n",
      "Errore sulla soluzione 2: 1.455147e-16\n"
     ]
    }
   ],
   "source": [
    "def solve_nsis(A, B):\n",
    "    m, n = A.shape # 'm' righe, 'n' colonne\n",
    "    if n != m:\n",
    "        print(\"Matrice non quadrata!\")\n",
    "        return None\n",
    "    Pt, L, U = sp.linalg.lu(A)\n",
    "    P = Pt.T\n",
    "    X = np.zeros((n, n))\n",
    "    for col in range(B.shape[1]):\n",
    "        b = B[:,col]\n",
    "        X[:,col] = LUsolve(P, A, L, U, b)[0].reshape((n,))\n",
    "    return X\n",
    "\n",
    "A1 = np.array([\n",
    "    [3, 5, 7],\n",
    "    [2, 3, 4],\n",
    "    [5, 9, 11]\n",
    "])\n",
    "\n",
    "A2 = np.array([\n",
    "    [1, 2, 3, 4],    \n",
    "    [2, -4, 6, 8],    \n",
    "    [-1, -2, -3, -1],    \n",
    "    [5, 7, 0, 1],    \n",
    "])\n",
    "\n",
    "cond_A1 = np.linalg.cond(A1, np.inf)\n",
    "cond_A2 = np.linalg.cond(A2, np.inf)\n",
    "\n",
    "# per calcolare le inverse di A1 e A2, scelgo B come matrice identità\n",
    "B1 = np.eye(A1.shape[0])\n",
    "B2 = np.eye(A2.shape[0])\n",
    "\n",
    "my_inv_A1 = solve_nsis(A1, B1)\n",
    "my_inv_A2 = solve_nsis(A2, B2)\n",
    "print(f\"my-A1-inv=\\n{my_inv_A1}\")\n",
    "print(f\"my-A2-inv=\\n{my_inv_A2}\")\n",
    "\n",
    "print()\n",
    "A1_inv = np.linalg.inv(A1)\n",
    "A2_inv = np.linalg.inv(A2)\n",
    "print(f\"A1_inv=\\n{A1_inv}\")\n",
    "print(f\"A2_inv=\\n{A2_inv}\")\n",
    "\n",
    "err_sol_A1 = np.linalg.norm(my_inv_A1 - A1_inv, np.inf) / np.linalg.norm(A1_inv, np.inf)\n",
    "err_sol_A2 = np.linalg.norm(my_inv_A2 - A2_inv, np.inf) / np.linalg.norm(A2_inv, np.inf)\n",
    "\n",
    "print()\n",
    "print(f\"Errore sulla soluzione 1: {err_sol_A1:e}\")\n",
    "print(f\"Errore sulla soluzione 2: {err_sol_A2:e}\")"
   ]
  },
  {
   "cell_type": "markdown",
   "id": "412ae29a-6a32-43e0-9456-e7677f695feb",
   "metadata": {},
   "source": [
    "## Esercizio 6\n",
    "Sfruttando la fattorizzazione PA=LU  di una delle matrici del punto precedente, calcolarne il determinante.\n"
   ]
  },
  {
   "cell_type": "markdown",
   "id": "8b359b50-ef2b-4a62-8623-b4cba6a31468",
   "metadata": {},
   "source": [
    "## Esercizio 7\n",
    "Per valori di $n = 4 : 6 : 40$, si consideri il sistema lineare $A_n x = b$ con\n",
    "$A_n$ matrice di Hankel di ordine $n$ di elementi\n",
    "$$\n",
    "a^{(n)}_{i,n+k-i}\n",
    "=\n",
    "\\left \\{\n",
    "\\begin{array}{ll}\n",
    "2^k & \\hbox{se} \\ k > 0,\\\\\n",
    "2^{1/(2-k)} & \\hbox{se} \\ k \\leq 0,\n",
    "\\end{array}\n",
    "\\right .\n",
    "\\qquad\n",
    "i = 1, ..., n, \\ \\  k = i + 1-n, ..., i,\n",
    "$$\n",
    "e $b$ scelto in modo che risulti $x = [1, 1, ..., 1]^T$. Si risolva tale sistema\n",
    "con il metodo di fattorizzazione LU della matrice PA\n",
    "e il metodo di fattorizzazione QR (Q,R  =scipy.linalg.qr(A)).\n",
    "Calcolare gli errori relativi $\\| \\delta x \\|_2/\\|x\\|_2$ da cui sono affette\n",
    "le soluzioni calcolate con i due metodi e produrre, al variare di $n$, un\n",
    "grafico in scala logaritmica ( matplotlib.plyplot.loglog) degli errori relativi calcolati. Che cosa si\n",
    "osserva?\n",
    "\n",
    "NB: per il calcolo della matrice di Hankel utilizzare la function \n",
    "\n",
    "def Hankel(n):\n",
    "\n",
    "    A=np.zeros((n,n),dtype=float)\n",
    "    for i in range(0,n):\n",
    "        for k in range(i+1-n,i+1):\n",
    "            if k>0:\n",
    "                A[i,n-1+k-i]=2.0**(k+1)\n",
    "            else:\n",
    "                A[i,n-1+k-i]=2.0**(1/(2-k-1))\n",
    "    return A"
   ]
  },
  {
   "cell_type": "markdown",
   "id": "00b1242a-d51d-40fa-a9ed-716cc4ab9d89",
   "metadata": {},
   "source": [
    "## Esercizio 8\n",
    "\n",
    "Ripetere l'esercizio precedente per risolvere il sistema lineare $Ax = b$\n",
    "con $A$ e $b$ cos\\`i  definiti:\n",
    "$$\n",
    "a^{(n)}_{i,j}=\n",
    "\\left \\{\n",
    "\\begin{array}{ll}\n",
    "1 & \\hbox{se} \\ i=j \\ \\hbox{o \\, se} \\ j=n,\\\\\n",
    "-1 & \\hbox{se} \\ i>j,\\\\\n",
    "0 & \\hbox{altrimenti}\n",
    "\\end{array}\n",
    "\\right .\n",
    "\\qquad\n",
    "b = A \\cdot [1, ..., 1]^T,\n",
    "$$\n",
    "per $n = 48 : 2 : 58$ e $b$ scelto in modo che risulti $x = [1, 1, ..., 1]^T$. Che\n",
    "cosa si osserva?"
   ]
  }
 ],
 "metadata": {
  "kernelspec": {
   "display_name": "Python 3 (ipykernel)",
   "language": "python",
   "name": "python3"
  },
  "language_info": {
   "codemirror_mode": {
    "name": "ipython",
    "version": 3
   },
   "file_extension": ".py",
   "mimetype": "text/x-python",
   "name": "python",
   "nbconvert_exporter": "python",
   "pygments_lexer": "ipython3",
   "version": "3.12.0"
  }
 },
 "nbformat": 4,
 "nbformat_minor": 5
}
