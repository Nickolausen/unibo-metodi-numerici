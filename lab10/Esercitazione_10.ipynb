{
 "cells": [
  {
   "cell_type": "markdown",
   "id": "563c6e9f-4262-4dff-889f-d8bbeba42a00",
   "metadata": {
    "tags": []
   },
   "source": [
    "# Esercitazione 10\n",
    "\n",
    "**29 Aprile 2024**\n",
    "\n",
    "*Gradiente*"
   ]
  },
  {
   "cell_type": "code",
   "execution_count": 3,
   "id": "6b1afea6-86b5-4fe2-8c2a-743f4fe258f1",
   "metadata": {},
   "outputs": [],
   "source": [
    "import numpy as np\n",
    "import scipy as sp\n",
    "import sympy as syp\n",
    "import matplotlib.pyplot as plt"
   ]
  },
  {
   "cell_type": "markdown",
   "id": "af3ab26b-9626-4782-a629-1851ad883687",
   "metadata": {
    "tags": []
   },
   "source": [
    "## Esercizio 1\n",
    "Implementare la funzione **steepestdescent(A,b,x0,itmax,tol)** che implementa il metodo di discesa più ripida del gradiente per risolvere il sistema lineare Ax=b, con A matrice simmetrica e definita positiva. La funzione prende in input:\n",
    "- A: matrice dei coefficienti\n",
    "- b: termine noto\n",
    "- x0: vettore iniziale della stessa dimensione di b\n",
    "- itmax: iterazioni massime oltre le quali il metodo si ferma\n",
    "- toll: tolleranza per il criterio di arresto\n",
    "\n",
    "e restituisce in output:\n",
    "- il vettore soluzione\n",
    "- un vettore di tante componenti quanto il numero di iterazioni effettuate, contenente $ \\frac{||r^{(k)}||_2} {||b||_2}$ iterazione per iterazione\n",
    "\n",
    "- un array contenente le soluzioni ad ogni iterazione\n",
    "- il numero di iterazioni impiegate per calcolare la soluzione con la tolleranza richiesta\n",
    "\n",
    "Usare come criterio di arresto $ \\frac{||r^{(k)}||_2} {||b||_2} < toll$"
   ]
  },
  {
   "cell_type": "code",
   "execution_count": 16,
   "id": "8cea3797-1db6-4b68-88ba-5013e4884a73",
   "metadata": {},
   "outputs": [],
   "source": [
    "def scalar_prod(a, b):\n",
    "    return a @ b\n",
    "\n",
    "def steepest_descent(A, b, x0, toll, maxit):\n",
    "    # Controllo validità matrice\n",
    "    n, m = A.shape\n",
    "    if n != m:\n",
    "        print(\"Matrice non quadrata!\")\n",
    "        return None, None, None, None\n",
    "        \n",
    "    x_next, x_curr = None, x0\n",
    "    r_next, r_curr = None, scalar_prod(A, x_curr) + b\n",
    "    attempts = []\n",
    "    errors = []\n",
    "    stop = False\n",
    "\n",
    "    while not stop:\n",
    "        # Direzione di discesa\n",
    "        p_k = -scalar_prod(A, x_curr) + b\n",
    "\n",
    "        # Vettore residuo\n",
    "        r_k = -p_k\n",
    "\n",
    "        # Step size\n",
    "        alpha_k = scalar_prod(r_curr, r_curr) / scalar_prod(A @ r_curr, r_curr)\n",
    "\n",
    "        # Prossimo iterato\n",
    "        x_next = x_curr + alpha_k * p_k\n",
    "        attempts.append(x_next)\n",
    "        r_next = r_curr + alpha_k * scalar_prod(A, p_k)\n",
    "\n",
    "        # Criterio di arresto\n",
    "        errore = np.linalg.norm(r_next) / np.linalg.norm(b)\n",
    "        errors.append(errore)\n",
    "        \n",
    "        if errore <= toll or len(attempts) > maxit:\n",
    "            stop = True\n",
    "        else:\n",
    "            x_curr = x_next\n",
    "            r_curr = r_next\n",
    "\n",
    "    # soluzione, vettore di k componenti (errori?), tentativi, # tentativi\n",
    "    return x_curr, np.array(errors, dtype=float), attempts, len(attempts)"
   ]
  },
  {
   "cell_type": "markdown",
   "id": "87931a73-97a8-4026-b57e-7e842f27bbbc",
   "metadata": {},
   "source": [
    "## Esercizio 1-Bis\n",
    "Implementare la funzione **steepestdescent_CL(A,b,x0,itmax,X,Y,Z,f,tol)** da utilizzare solo nel caso n=2 che visualizza anche le curve di livello e l'iterato x_k.\n",
    "\n",
    "N.B: f(x) è il funzionale quadratico da minimizzare (f(x)= <Ax,x>-<b,x>) ,\n",
    "X,Y sono la discretizzazione del piano su cui costruire Z (ottenuta valutando f sui punti della griglia)"
   ]
  },
  {
   "cell_type": "markdown",
   "id": "d79f8a0e-ca9c-4eab-a23d-73b13a1eb892",
   "metadata": {},
   "source": [
    "## Test didattici per il caso n=2, visualizzando le curve di livello"
   ]
  },
  {
   "cell_type": "markdown",
   "id": "b42c2a29-4b3e-41e4-b35b-e97dd98606d5",
   "metadata": {},
   "source": [
    "Risolvere il sistema lineare Ax=b, dove A=np.array([[8,4],[4,3]]) e b=np.array([8,10]), utilizzando\n",
    "il metodo del gradiente con la visualizzazione grafica delle curve di livello e della soluzione ad ogni iterazione. Si selezioni l'iterato iniziale x0=[0,0], itmax=200\n",
    "tol=1e-10. Si visualizzi l'errore ad ogni iterazione. La soluzione esatta del sistema è il vettore x=[-2,6])"
   ]
  },
  {
   "cell_type": "markdown",
   "id": "1fa4e799-9317-4477-9ea3-d6bc7bef2ee1",
   "metadata": {
    "tags": []
   },
   "source": [
    "## Esercizio 3\n",
    "Scrivere una funzione creaPoisson(n) che preso in input l'ordine della matrice quadrata di Poisson la costruzione secondo la seguente formula:\n",
    "$$A =\n",
    "\\left [\n",
    "\\begin{array}{ccccccccccc}\n",
    "4 & -1 & 0 & -1 &0 &0 & 0& 0& \\cdots &   0 & 0\\\\\n",
    "-1 & 4 & -1 & 0  &-1 &0 & 0& 0& \\cdots &   0 & 0\\\\\n",
    "0 & -1 & 4 & -1  &0 &-1 & 0& 0& \\cdots &   0 & 0 \\\\\n",
    "-1 & 0 & -1 & 4  &-1 &0  & -1 & 0& \\cdots &   0 & 0\\\\\n",
    "0 & -1 & 0 & -1  & 4 &-1 & 0 & -1& \\cdots &   0 & 0\\\\\n",
    "0 & 0 & -1 & 0  & -1 &4 & -1 & 0&  -1 & 0 & 0 \\\\\n",
    "0 & 0 & 0 & \\ddots  & 0 &\\ddots & \\ddots & \\ddots& \\ddots & \\ddots & 0\\\\\n",
    "0 & 0 & 0 & 0  & -1 &0  & -1 & 4& -1 &   0& -1\\\\\n",
    "\\end{array}\n",
    " \\right ], \\qquad\n",
    "$$\n",
    "\n",
    "- Risolvere il sistema lineare Ax=b con matrice dei coefficienti A di Poisson con ordine che va da 10 a 100 con step 2,  e termine noto b scelto in maniera tale che il sistema abbia soluzione il vettore x con tutte le componenti  uguali ad 1, utilizzando  il metodo iterativo del gradiente e del gradiente coniugato  "
   ]
  },
  {
   "cell_type": "markdown",
   "id": "39a8e883-20ae-44d7-960b-7e0727f94298",
   "metadata": {},
   "source": [
    "## Esercizio 4\n",
    "Consideriamo il sistema lineare Ax=b  dov A è  la matrice di Hilbert di dimensione 5, costruita usando la funzione hilbert(n) di scipy.linalg (A=scipy.linalg.hilbert(5)) in modo tale che la soluzione esatta sia $x = (1, 1, . . . , 1)^T$ .\n",
    "Risolvere il sistema lineare usando sia il metodi del gradiente e  visualizzare gli errori ad ogni iterazione."
   ]
  },
  {
   "cell_type": "code",
   "execution_count": 24,
   "id": "c2d222ce-7307-4d40-a437-1d1e3b29d0eb",
   "metadata": {},
   "outputs": [
    {
     "name": "stdout",
     "output_type": "stream",
     "text": [
      "Condizionamento della matrice A (Matrice di Hilbert): 943655.9999995853 — Altamente malcondizionata\n"
     ]
    },
    {
     "data": {
      "image/png": "[encoded data removed]",
      "text/plain": [
       "<Figure size 640x480 with 1 Axes>"
      ]
     },
     "metadata": {},
     "output_type": "display_data"
    }
   ],
   "source": [
    "def get_condizionamento(idx):\n",
    "    if idx in range(0, 10**2):\n",
    "        return \"Ben condizionata\"\n",
    "    if idx in range(10**2, 10**3):\n",
    "        return \"Mediamente malcondizionata\"\n",
    "    return \"Altamente malcondizionata\"\n",
    "\n",
    "n = 5\n",
    "A = sp.linalg.hilbert(n)\n",
    "b = np.sum(A, axis=1)\n",
    "x0 = np.zeros(A.shape[0])\n",
    "toll = 1e-10\n",
    "maxit = 1000\n",
    "\n",
    "res, errors, attempts, nr_attempts = steepest_descent(A, b, x0, toll, maxit)\n",
    "plt.grid(True)\n",
    "plt.semilogy(range(len(errors)), errors)\n",
    "\n",
    "cond_hilbert = np.linalg.cond(A, np.inf)\n",
    "print(\"Condizionamento della matrice A (Matrice di Hilbert): {} — {}\".format(cond_hilbert, get_condizionamento(cond_hilbert)))"
   ]
  },
  {
   "cell_type": "markdown",
   "id": "a93dd8c4-27ea-41ea-b359-fe06d4f9d585",
   "metadata": {},
   "source": [
    "## Esercizio 5\n",
    "Importare il file creaG ed utilizzare le funzioni sottospecificate per creare, scelto $n$,  una matrice D di ordine $m=(n-2)^2$\n",
    "\n",
    "*import creaG*\n",
    "\n",
    "*G = creaG.numgrid(n)*\n",
    "\n",
    "*D = creaG.delsq(G).todense().getA()*\n",
    "\n",
    "Risolvere il sistema lineare Dx=b, con matrice G di ordine m=16 ed ordine m=400, (scegliere n in maniera opportuna), usando il metodo del gradiente. Visualizzare graficamente l'errore ad ogni iterazione."
   ]
  },
  {
   "cell_type": "code",
   "execution_count": null,
   "id": "03fb8b02-a4b5-4d0b-af4b-9d94341ae989",
   "metadata": {},
   "outputs": [],
   "source": [
    "import creaG\n",
    "m_s = [16, 400]\n",
    "b_s = []\n",
    "x0_s = []\n",
    "toll = 1e-12\n",
    "maxit = 100\n",
    "\n",
    "for m in m_s:\n",
    "    G = creaG.numgrid(m)\n",
    "    D = creaG.delsq(G).todense().getA()\n",
    "    b_s.append(np.sum(D, axis=1))\n",
    "    x0_s.append(np.zeros(D.shape[0]))\n",
    "\n",
    "for m, b, x0 in zip(m_s, b_s, x0_s):\n",
    "    G = creaG.numgrid(m)\n",
    "    D = creaG.delsq(G).todense().getA()\n",
    "    cond_D = np.linalg.cond(D, np.inf)\n",
    "    print(\"Condizionamento di D: {} — {}\".format(cond_D, get_condizionamento(cond_D)))\n",
    "    res, errors, attempts, nr_attempts = steepest_descent(D, b, x0, toll, maxit)\n",
    "    plt.grid(True)\n",
    "    plt.semilogy(range(len(errors)), errors)\n",
    "    plt.show()"
   ]
  }
 ],
 "metadata": {
  "kernelspec": {
   "display_name": "Python 3 (ipykernel)",
   "language": "python",
   "name": "python3"
  },
  "language_info": {
   "codemirror_mode": {
    "name": "ipython",
    "version": 3
   },
   "file_extension": ".py",
   "mimetype": "text/x-python",
   "name": "python",
   "nbconvert_exporter": "python",
   "pygments_lexer": "ipython3",
   "version": "3.12.0"
  }
 },
 "nbformat": 4,
 "nbformat_minor": 5
}
