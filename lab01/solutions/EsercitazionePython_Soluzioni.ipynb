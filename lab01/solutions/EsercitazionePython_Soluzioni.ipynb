{
 "cells": [
  {
   "cell_type": "markdown",
   "id": "ae8420c8-346b-425b-bf7e-ecabbd4a067e",
   "metadata": {},
   "source": [
    "## Esercitazione Python -- 18/02/2025"
   ]
  },
  {
   "cell_type": "markdown",
   "id": "2dbec7a5-a12e-4693-ab65-a8fd067ff356",
   "metadata": {},
   "source": [
    "**Liste:**\n",
    "\n",
    "Scrivi una funzione che prende una lista di numeri e restituisce una nuova lista contenente solo i numeri pari.\n",
    "\n",
    "Crea una funzione che inverte l'ordine degli elementi in una lista (senza usare reverse() o slicing).\n",
    "\n",
    "Scrivi una funzione che trova il valore più grande e il valore più piccolo in una lista.\n",
    "\n",
    "\n"
   ]
  },
  {
   "cell_type": "code",
   "execution_count": 1,
   "id": "fd53113d-4d4a-4ac8-acad-b9d289dcdb7a",
   "metadata": {
    "tags": []
   },
   "outputs": [],
   "source": [
    "# Funzione che restituisce solo i numeri pari\n",
    "def numeri_pari(lista):\n",
    "  return [numero for numero in lista if numero % 2 == 0]\n",
    "\n",
    "# Funzione che inverte l'ordine degli elementi\n",
    "def inverti_lista(lista):\n",
    "  nuova_lista = []\n",
    "  for i in range(len(lista) - 1, -1, -1):\n",
    "    nuova_lista.append(lista[i])\n",
    "  return nuova_lista\n",
    "\n",
    "# Programma che trova valore massimo e minimo\n",
    "def trova_min_max(lista):\n",
    "  if not lista:  # Gestione lista vuota\n",
    "    return None, None\n",
    "  massimo = minimo = lista[0]\n",
    "  for numero in lista:\n",
    "    if numero > massimo:\n",
    "      massimo = numero\n",
    "    if numero < minimo:\n",
    "      minimo = numero\n",
    "  return massimo, minimo"
   ]
  },
  {
   "cell_type": "code",
   "execution_count": 2,
   "id": "11119174-7994-4312-8b3e-0ab0fc06bf97",
   "metadata": {
    "tags": []
   },
   "outputs": [
    {
     "data": {
      "text/plain": [
       "[2, 14, 8]"
      ]
     },
     "execution_count": 2,
     "metadata": {},
     "output_type": "execute_result"
    }
   ],
   "source": [
    "numeri_pari([2,11,73,14,8])"
   ]
  },
  {
   "cell_type": "code",
   "execution_count": 9,
   "id": "e840b5f0-cdd5-4533-868f-cdc7ac4d00da",
   "metadata": {
    "tags": []
   },
   "outputs": [
    {
     "data": {
      "text/plain": [
       "[8, 14, 73, 11, 2]"
      ]
     },
     "execution_count": 9,
     "metadata": {},
     "output_type": "execute_result"
    }
   ],
   "source": [
    "inverti_lista([2,11,73,14,8])"
   ]
  },
  {
   "cell_type": "code",
   "execution_count": 10,
   "id": "87a9694e-ed27-46b5-9688-5c13b456d74d",
   "metadata": {
    "tags": []
   },
   "outputs": [
    {
     "data": {
      "text/plain": [
       "(73, 2)"
      ]
     },
     "execution_count": 10,
     "metadata": {},
     "output_type": "execute_result"
    }
   ],
   "source": [
    "trova_min_max([2,11,73,14,8])"
   ]
  },
  {
   "cell_type": "markdown",
   "id": "1af6bcd2-4c2a-4c67-ae77-c1559b9e3c76",
   "metadata": {},
   "source": [
    "**Stringhe:**\n",
    "\n",
    "Scrivi una funzione che conta il numero di vocali in una stringa.\n",
    "\n",
    "Crea una funzione che verifica se una stringa è un palindromo (si legge allo stesso modo da sinistra a destra e viceversa).\n",
    "\n",
    "Scrivi una funzione che converte una stringa in maiuscolo o minuscolo (a scelta dell'utente).\n"
   ]
  },
  {
   "cell_type": "code",
   "execution_count": 3,
   "id": "23ef07de-e158-4db2-b170-61e582435c2d",
   "metadata": {
    "tags": []
   },
   "outputs": [],
   "source": [
    "# Funzione che conta le vocali\n",
    "def conta_vocali(stringa):\n",
    "  vocali = \"aeiouAEIOU\"\n",
    "  conta = 0\n",
    "  for carattere in stringa:\n",
    "    if carattere in vocali:\n",
    "      conta += 1\n",
    "  return conta\n",
    "\n",
    "# Funzione che verifica se una stringa è palindroma\n",
    "def palindromo(stringa):\n",
    "  stringa = stringa.lower()  # Ignora maiuscole/minuscole\n",
    "  return stringa == stringa[::-1]\n",
    "\n",
    "# Programma che converte in maiuscolo o minuscolo\n",
    "def converti_stringa(stringa):\n",
    "  scelta = input(\"Vuoi convertire in maiuscolo (M) o minuscolo (m)? \")\n",
    "  if scelta == \"M\":\n",
    "    return stringa.upper()\n",
    "  elif scelta == \"m\":\n",
    "    return stringa.lower()\n",
    "  else:\n",
    "    return \"Scelta non valida\""
   ]
  },
  {
   "cell_type": "code",
   "execution_count": 5,
   "id": "1b8f580c-7aa2-4191-b2e8-6f0b52ba35d9",
   "metadata": {
    "tags": []
   },
   "outputs": [
    {
     "data": {
      "text/plain": [
       "False"
      ]
     },
     "execution_count": 5,
     "metadata": {},
     "output_type": "execute_result"
    }
   ],
   "source": [
    "palindromo('manna')"
   ]
  },
  {
   "cell_type": "code",
   "execution_count": 6,
   "id": "c1ec09f1-0802-4c53-975e-07bbaf35e38e",
   "metadata": {
    "tags": []
   },
   "outputs": [
    {
     "name": "stdin",
     "output_type": "stream",
     "text": [
      "Vuoi convertire in maiuscolo (M) o minuscolo (m)?  M\n"
     ]
    },
    {
     "data": {
      "text/plain": [
       "'CIAO'"
      ]
     },
     "execution_count": 6,
     "metadata": {},
     "output_type": "execute_result"
    }
   ],
   "source": [
    "converti_stringa('ciao')"
   ]
  },
  {
   "cell_type": "code",
   "execution_count": 7,
   "id": "5ac6ca86-8f8d-4535-95da-a6a034fc9958",
   "metadata": {
    "tags": []
   },
   "outputs": [
    {
     "data": {
      "text/plain": [
       "2"
      ]
     },
     "execution_count": 7,
     "metadata": {},
     "output_type": "execute_result"
    }
   ],
   "source": [
    "conta_vocali('mamma')"
   ]
  },
  {
   "cell_type": "markdown",
   "id": "c9b84acc-0820-455c-8ca5-3208908ff49a",
   "metadata": {},
   "source": [
    "**Dizionari:**\n",
    "\n",
    "Crea un dizionario che contenga alcune parole italiane e le loro traduzioni in inglese. Scrivi un programma che chieda all'utente una parola italiana e restituisca la sua traduzione inglese, oppure un messaggio se la parola non è presente nel dizionario.\n",
    "\n",
    "\n",
    "Scrivi una funzione che prenda in input un dizionario e una chiave, e restituisca True se la chiave è presente nel dizionario, False altrimenti.\n",
    "\n"
   ]
  },
  {
   "cell_type": "code",
   "execution_count": 14,
   "id": "4fa3f41d-d1a4-4e65-988f-02061f0f1203",
   "metadata": {
    "tags": []
   },
   "outputs": [
    {
     "name": "stdin",
     "output_type": "stream",
     "text": [
      "Inserisci una parola italiana:  libro\n"
     ]
    },
    {
     "name": "stdout",
     "output_type": "stream",
     "text": [
      "La traduzione di 'libro' è 'book'\n"
     ]
    }
   ],
   "source": [
    "traduzioni = {\n",
    "    \"cane\": \"dog\",\n",
    "    \"gatto\": \"cat\",\n",
    "    \"libro\": \"book\",\n",
    "    \"casa\": \"house\",\n",
    "    \"albero\": \"tree\"\n",
    "}\n",
    "\n",
    "parola_italiana = input(\"Inserisci una parola italiana: \")\n",
    "\n",
    "if parola_italiana in traduzioni:\n",
    "    print(f\"La traduzione di '{parola_italiana}' è '{traduzioni[parola_italiana]}'\")\n",
    "else:\n",
    "    print(f\"La parola '{parola_italiana}' non è presente nel dizionario.\")"
   ]
  },
  {
   "cell_type": "code",
   "execution_count": 1,
   "id": "ee75826f-712c-46a5-b481-4a9a4e306c65",
   "metadata": {
    "tags": []
   },
   "outputs": [
    {
     "name": "stdout",
     "output_type": "stream",
     "text": [
      "True\n",
      "False\n"
     ]
    }
   ],
   "source": [
    "def verifica_chiave(diz, chiave):\n",
    "  \"\"\"Verifica se una chiave è presente in un dizionario.\"\"\"\n",
    "  return chiave in diz\n",
    "\n",
    "# Esempio di utilizzo:\n",
    "dizionario = {\"a\": 1, \"b\": 2, \"c\": 3}\n",
    "\n",
    "print(verifica_chiave(dizionario, \"a\"))  # Output: True\n",
    "print(verifica_chiave(dizionario, \"d\"))  # Output: False"
   ]
  },
  {
   "cell_type": "markdown",
   "id": "c1dd66ca-a61e-41b9-b6a7-b6b49387bac4",
   "metadata": {},
   "source": [
    "**Cicli for:**\n",
    "\n",
    "Scrivi un programma che stampa i numeri da 1 a 10 usando un ciclo for.\n",
    "\n",
    "Crea una funzione che calcola la somma dei numeri in una lista usando un ciclo for.\n",
    "\n",
    "Scrivi un programma che stampa una tabella di moltiplicazione (ad esempio, da 1 a 10) usando cicli for annidati.\n"
   ]
  },
  {
   "cell_type": "code",
   "execution_count": 2,
   "id": "ee5518c1-bd26-41b6-9aaa-c53a3ca3e453",
   "metadata": {
    "tags": []
   },
   "outputs": [
    {
     "name": "stdout",
     "output_type": "stream",
     "text": [
      "Numeri da 1 a 10:\n",
      "1\n",
      "2\n",
      "3\n",
      "4\n",
      "5\n",
      "6\n",
      "7\n",
      "8\n",
      "9\n",
      "10\n",
      "\n",
      "Somma dei numeri nella lista: 15\n",
      "\n",
      "Tabella di moltiplicazione (1-10):\n",
      "1 x 1 = 1\t1 x 2 = 2\t1 x 3 = 3\t1 x 4 = 4\t1 x 5 = 5\t1 x 6 = 6\t1 x 7 = 7\t1 x 8 = 8\t1 x 9 = 9\t1 x 10 = 10\t\n",
      "2 x 1 = 2\t2 x 2 = 4\t2 x 3 = 6\t2 x 4 = 8\t2 x 5 = 10\t2 x 6 = 12\t2 x 7 = 14\t2 x 8 = 16\t2 x 9 = 18\t2 x 10 = 20\t\n",
      "3 x 1 = 3\t3 x 2 = 6\t3 x 3 = 9\t3 x 4 = 12\t3 x 5 = 15\t3 x 6 = 18\t3 x 7 = 21\t3 x 8 = 24\t3 x 9 = 27\t3 x 10 = 30\t\n",
      "4 x 1 = 4\t4 x 2 = 8\t4 x 3 = 12\t4 x 4 = 16\t4 x 5 = 20\t4 x 6 = 24\t4 x 7 = 28\t4 x 8 = 32\t4 x 9 = 36\t4 x 10 = 40\t\n",
      "5 x 1 = 5\t5 x 2 = 10\t5 x 3 = 15\t5 x 4 = 20\t5 x 5 = 25\t5 x 6 = 30\t5 x 7 = 35\t5 x 8 = 40\t5 x 9 = 45\t5 x 10 = 50\t\n",
      "6 x 1 = 6\t6 x 2 = 12\t6 x 3 = 18\t6 x 4 = 24\t6 x 5 = 30\t6 x 6 = 36\t6 x 7 = 42\t6 x 8 = 48\t6 x 9 = 54\t6 x 10 = 60\t\n",
      "7 x 1 = 7\t7 x 2 = 14\t7 x 3 = 21\t7 x 4 = 28\t7 x 5 = 35\t7 x 6 = 42\t7 x 7 = 49\t7 x 8 = 56\t7 x 9 = 63\t7 x 10 = 70\t\n",
      "8 x 1 = 8\t8 x 2 = 16\t8 x 3 = 24\t8 x 4 = 32\t8 x 5 = 40\t8 x 6 = 48\t8 x 7 = 56\t8 x 8 = 64\t8 x 9 = 72\t8 x 10 = 80\t\n",
      "9 x 1 = 9\t9 x 2 = 18\t9 x 3 = 27\t9 x 4 = 36\t9 x 5 = 45\t9 x 6 = 54\t9 x 7 = 63\t9 x 8 = 72\t9 x 9 = 81\t9 x 10 = 90\t\n",
      "10 x 1 = 10\t10 x 2 = 20\t10 x 3 = 30\t10 x 4 = 40\t10 x 5 = 50\t10 x 6 = 60\t10 x 7 = 70\t10 x 8 = 80\t10 x 9 = 90\t10 x 10 = 100\t\n"
     ]
    }
   ],
   "source": [
    "# Stampa i numeri da 1 a 10\n",
    "print(\"Numeri da 1 a 10:\")\n",
    "for i in range(1, 11):\n",
    "    print(i)\n",
    "\n",
    "# Funzione per calcolare la somma di una lista di numeri\n",
    "def somma_lista(lista):\n",
    "    somma = 0\n",
    "    for numero in lista:\n",
    "        somma += numero\n",
    "    return somma\n",
    "\n",
    "# Esempio di utilizzo della funzione\n",
    "lista_numeri = [1, 2, 3, 4, 5]\n",
    "somma = somma_lista(lista_numeri)\n",
    "print(\"\\nSomma dei numeri nella lista:\", somma)\n",
    "\n",
    "# Stampa la tabella di moltiplicazione da 1 a 10\n",
    "print(\"\\nTabella di moltiplicazione (1-10):\")\n",
    "for i in range(1, 11):\n",
    "    for j in range(1, 11):\n",
    "        print(\"{} x {} = {}\".format(i, j, i*j), end=\"\\t\")\n",
    "    print()\n",
    "\n"
   ]
  },
  {
   "cell_type": "markdown",
   "id": "a0207bf9-9eb3-4ac8-aa0e-3094f1a04374",
   "metadata": {},
   "source": [
    "Le graffe vuote {} fungono da segnaposto all'interno della stringa. Indicano dove verranno inseriti i valori forniti come argomenti al metodo format().\n",
    "\n",
    "Sostituzione dei valori\n",
    "Il metodo format() prende i valori i, j e i*j e li sostituisce nell'ordine in cui compaiono all'interno della stringa, al posto dei segnaposto.\n",
    "\n",
    "La prima coppia di graffe {} viene sostituita dal valore di i.\n",
    "La seconda coppia di graffe {} viene sostituita dal valore di j.\n",
    "La terza coppia di graffe {} viene sostituita dal risultato di i*j."
   ]
  },
  {
   "cell_type": "code",
   "execution_count": null,
   "id": "fbd7b5f8-72cb-4d54-9448-909d88efde6b",
   "metadata": {},
   "outputs": [],
   "source": []
  },
  {
   "cell_type": "markdown",
   "id": "9ac6c2c6-431c-45f9-8962-8e4301422c46",
   "metadata": {},
   "source": [
    "**Cicli while:**\n",
    "\n",
    "\n",
    "Crea una funzione che calcola il fattoriale di un numero usando un ciclo while.\n",
    "\n",
    "Scrivi un programma che stampa i numeri pari da 0 a 100 usando un ciclo while.\n"
   ]
  },
  {
   "cell_type": "code",
   "execution_count": 3,
   "id": "c9c85283-64ba-470b-9ba6-933a874790c7",
   "metadata": {
    "tags": []
   },
   "outputs": [
    {
     "name": "stdout",
     "output_type": "stream",
     "text": [
      "Il fattoriale di 5 è 120\n"
     ]
    }
   ],
   "source": [
    "def fattoriale(n):\n",
    "    if n < 0:\n",
    "        return \"Il fattoriale di un numero negativo non esiste.\"\n",
    "    elif n == 0:\n",
    "        return 1\n",
    "    else:\n",
    "        fatt = 1\n",
    "        while n > 0:\n",
    "            fatt *= n\n",
    "            n -= 1\n",
    "        return fatt\n",
    "\n",
    "numero = 5\n",
    "risultato = fattoriale(numero)\n",
    "print(f\"Il fattoriale di {numero} è {risultato}\")"
   ]
  },
  {
   "cell_type": "code",
   "execution_count": 17,
   "id": "bbb3ba3d-cfa9-44e4-91fb-b2b0f145507b",
   "metadata": {
    "tags": []
   },
   "outputs": [
    {
     "name": "stdout",
     "output_type": "stream",
     "text": [
      "0\n",
      "2\n",
      "4\n",
      "6\n",
      "8\n",
      "10\n",
      "12\n",
      "14\n",
      "16\n",
      "18\n",
      "20\n",
      "22\n",
      "24\n",
      "26\n",
      "28\n",
      "30\n",
      "32\n",
      "34\n",
      "36\n",
      "38\n",
      "40\n",
      "42\n",
      "44\n",
      "46\n",
      "48\n",
      "50\n",
      "52\n",
      "54\n",
      "56\n",
      "58\n",
      "60\n",
      "62\n",
      "64\n",
      "66\n",
      "68\n",
      "70\n",
      "72\n",
      "74\n",
      "76\n",
      "78\n",
      "80\n",
      "82\n",
      "84\n",
      "86\n",
      "88\n",
      "90\n",
      "92\n",
      "94\n",
      "96\n",
      "98\n",
      "100\n"
     ]
    }
   ],
   "source": [
    "numero = 0\n",
    "\n",
    "while numero <= 100:\n",
    "    if numero % 2 == 0:\n",
    "        print(numero)\n",
    "    numero += 1"
   ]
  },
  {
   "cell_type": "markdown",
   "id": "0af7c6c7-68c3-448a-a297-76fa2875130a",
   "metadata": {},
   "source": [
    "**List comprehension:**\n",
    "\n",
    "Usa una list comprehension per creare una nuova lista contenente i quadrati dei numeri da 1 a 10.\n",
    "\n",
    "Usa una list comprehension per filtrare una lista di stringhe e ottenere solo quelle che iniziano con una determinata lettera.\n",
    "\n",
    "Usa una list comprehension per creare un dizionario dove le chiavi sono i numeri da 1 a 5 e i valori sono i loro quadrati.\n"
   ]
  },
  {
   "cell_type": "code",
   "execution_count": 19,
   "id": "f3e3207f-76b0-4473-a675-11b28648b75e",
   "metadata": {
    "tags": []
   },
   "outputs": [
    {
     "name": "stdout",
     "output_type": "stream",
     "text": [
      "[1, 4, 9, 16, 25, 36, 49, 64, 81, 100]\n"
     ]
    }
   ],
   "source": [
    "quadrati = [x**2 for x in range(1, 11)]\n",
    "print(quadrati)  # Output: [1, 4, 9, 16, 25, 36, 49, 64, 81, 100]"
   ]
  },
  {
   "cell_type": "code",
   "execution_count": 20,
   "id": "9d401e98-81ea-41d8-83a1-a6f8db67ff43",
   "metadata": {
    "tags": []
   },
   "outputs": [
    {
     "name": "stdout",
     "output_type": "stream",
     "text": [
      "['casa', 'cane']\n"
     ]
    }
   ],
   "source": [
    "stringhe = [\"casa\", \"cane\", \"tavolo\", \"albero\", \"gatto\"]\n",
    "lettera = \"c\"\n",
    "stringhe_filtrate = [s for s in stringhe if s.startswith(lettera)]\n",
    "print(stringhe_filtrate)  # Output: ['casa', 'cane']"
   ]
  },
  {
   "cell_type": "code",
   "execution_count": null,
   "id": "1b6e16e8-4208-4fda-b9b8-c9c046e1b43a",
   "metadata": {},
   "outputs": [],
   "source": []
  },
  {
   "cell_type": "markdown",
   "id": "4866ecae-6286-4d11-97ed-dccc4a6ef325",
   "metadata": {},
   "source": [
    "**If, else, elif:**\n",
    "\n",
    "Scrivi una funzione che determina se un numero è positivo, negativo o zero.\n",
    "\n",
    "Scrivi un programma che calcola il prezzo di un biglietto del cinema in base all'età."
   ]
  },
  {
   "cell_type": "code",
   "execution_count": 21,
   "id": "a3108a7f-324f-4232-8c30-324a09438512",
   "metadata": {},
   "outputs": [
    {
     "name": "stdout",
     "output_type": "stream",
     "text": [
      "Il numero 10 è Positivo.\n"
     ]
    }
   ],
   "source": [
    "def determina_segno(numero):\n",
    "  \"\"\"\n",
    "  Determina se un numero è positivo, negativo o zero.\n",
    "\n",
    "  Args:\n",
    "    numero: Il numero da controllare.\n",
    "\n",
    "  Returns:\n",
    "    Una stringa che indica se il numero è positivo, negativo o zero.\n",
    "  \"\"\"\n",
    "  if numero > 0:\n",
    "    return \"Positivo\"\n",
    "  elif numero < 0:\n",
    "    return \"Negativo\"\n",
    "  else:\n",
    "    return \"Zero\"\n",
    "\n",
    "# Esempio di utilizzo\n",
    "numero = 10\n",
    "segno = determina_segno(numero)\n",
    "print(f\"Il numero {numero} è {segno}.\")"
   ]
  },
  {
   "cell_type": "code",
   "execution_count": 1,
   "id": "237fe321-b0b1-4201-a15a-cf115dfb4642",
   "metadata": {},
   "outputs": [
    {
     "name": "stdin",
     "output_type": "stream",
     "text": [
      "Inserisci la tua età:  12\n"
     ]
    },
    {
     "name": "stdout",
     "output_type": "stream",
     "text": [
      "Il prezzo del biglietto è di 8 euro.\n"
     ]
    }
   ],
   "source": [
    "età = int(input(\"Inserisci la tua età: \"))\n",
    "\n",
    "if età < 12:\n",
    "    prezzo = 5\n",
    "elif età < 18:\n",
    "    prezzo = 8\n",
    "else:\n",
    "    prezzo = 10\n",
    "\n",
    "print(f\"Il prezzo del biglietto è di {prezzo} euro.\")"
   ]
  },
  {
   "cell_type": "markdown",
   "id": "05703d49-4c42-43b3-9a1f-b1bddb6a30ab",
   "metadata": {},
   "source": [
    "**MatchCase**"
   ]
  },
  {
   "cell_type": "markdown",
   "id": "9f329943-6fc4-429a-91c4-1d1210b0eff2",
   "metadata": {},
   "source": [
    "Scrivi una funzione che prenda in input un numero intero compreso tra 0 e 5 e restituisca la sua rappresentazione in parole (zero, uno, due, tre, quattro, cinque). Utilizza match/case per implementare la logica."
   ]
  },
  {
   "cell_type": "code",
   "execution_count": 23,
   "id": "90473bb5-83df-4f63-98ef-14c3896e5126",
   "metadata": {
    "tags": []
   },
   "outputs": [
    {
     "name": "stdout",
     "output_type": "stream",
     "text": [
      "tre\n",
      "zero\n",
      "Numero non valido\n"
     ]
    }
   ],
   "source": [
    "def numero_in_parole(numero):\n",
    "    match numero:\n",
    "        case 0:\n",
    "            return \"zero\"\n",
    "        case 1:\n",
    "            return \"uno\"\n",
    "        case 2:\n",
    "            return \"due\"\n",
    "        case 3:\n",
    "            return \"tre\"\n",
    "        case 4:\n",
    "            return \"quattro\"\n",
    "        case 5:\n",
    "            return \"cinque\"\n",
    "        case _:  # Caso predefinito (numero non valido)\n",
    "            return \"Numero non valido\"\n",
    "\n",
    "# Esempio di utilizzo:\n",
    "print(numero_in_parole(3))  # Output: tre\n",
    "print(numero_in_parole(0))  # Output: zero\n",
    "print(numero_in_parole(7))  # Output: Numero non valido"
   ]
  },
  {
   "cell_type": "code",
   "execution_count": null,
   "id": "1cd2be24-835f-47d2-9c22-6c4780d40a30",
   "metadata": {},
   "outputs": [],
   "source": []
  }
 ],
 "metadata": {
  "kernelspec": {
   "display_name": "Python 3 (ipykernel)",
   "language": "python",
   "name": "python3"
  },
  "language_info": {
   "codemirror_mode": {
    "name": "ipython",
    "version": 3
   },
   "file_extension": ".py",
   "mimetype": "text/x-python",
   "name": "python",
   "nbconvert_exporter": "python",
   "pygments_lexer": "ipython3",
   "version": "3.11.5"
  }
 },
 "nbformat": 4,
 "nbformat_minor": 5
}
