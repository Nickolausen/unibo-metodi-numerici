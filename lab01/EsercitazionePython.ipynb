{
 "cells": [
  {
   "cell_type": "markdown",
   "id": "ae8420c8-346b-425b-bf7e-ecabbd4a067e",
   "metadata": {},
   "source": [
    "## Esercitazione Python -- 18/02/2025"
   ]
  },
  {
   "cell_type": "markdown",
   "id": "2dbec7a5-a12e-4693-ab65-a8fd067ff356",
   "metadata": {},
   "source": [
    "**Liste:**\n",
    "\n",
    "Scrivi una funzione che prende una lista di numeri e restituisce una nuova lista contenente solo i numeri pari.\n",
    "\n",
    "Crea una funzione che inverte l'ordine degli elementi in una lista (senza usare reverse() o slicing).\n",
    "\n",
    "Scrivi un programma che trova il valore più grande e il valore più piccolo in una lista.\n",
    "\n",
    "\n"
   ]
  },
  {
   "cell_type": "code",
   "execution_count": null,
   "id": "868bc8e9",
   "metadata": {},
   "outputs": [
    {
     "name": "stdout",
     "output_type": "stream",
     "text": [
      "[2, 4, 6, 8, 10, 12, 14, 16, 18]\n",
      "[19, 18, 17, 16, 15, 14, 13, 12, 11, 10, 9, 8, 7, 6, 5, 4, 3, 2, 1]\n",
      "19\n"
     ]
    }
   ],
   "source": [
    "example_list = list(range(1, 20))\n",
    "\n",
    "def filter_even(lst):\n",
    "    return [ x for x in lst if x % 2 == 0 ]\n",
    "\n",
    "def reverse(lst):\n",
    "    out = []\n",
    "    for element in lst:\n",
    "        out.insert(0, element)\n",
    "    return out\n",
    "\n",
    "def min_and_max(lst: list):\n",
    "    return (min(lst), max(lst)) \n",
    "\n",
    "print(filter_even(example_list))\n",
    "print(reverse(example_list))\n",
    "print(min_and_max(example_list))"
   ]
  },
  {
   "cell_type": "markdown",
   "id": "1af6bcd2-4c2a-4c67-ae77-c1559b9e3c76",
   "metadata": {},
   "source": [
    "**Stringhe:**\n",
    "\n",
    "Scrivi una funzione che conta il numero di vocali in una stringa.\n",
    "\n",
    "Crea una funzione che verifica se una stringa è un palindromo (si legge allo stesso modo da sinistra a destra e viceversa).\n",
    "\n",
    "Scrivi un programma che converte una stringa in maiuscolo o minuscolo (a scelta dell'utente).\n"
   ]
  },
  {
   "cell_type": "code",
   "execution_count": 37,
   "id": "676e805e",
   "metadata": {},
   "outputs": [
    {
     "name": "stdout",
     "output_type": "stream",
     "text": [
      "8\n",
      "True\n",
      "change me\n"
     ]
    }
   ],
   "source": [
    "def vowel_count(my_string: str):\n",
    "    return len([ vowel for vowel in my_string if vowel.upper() in [ \"A\", \"E\", \"I\", \"O\", \"U\" ]])\n",
    "\n",
    "def is_palindrome(my_string: str):\n",
    "    string_normalized = my_string.upper().replace(\" \", \"\")\n",
    "    return string_normalized == string_normalized[::-1]\n",
    "\n",
    "def transform_string(my_string: str, to_upper: bool):\n",
    "    return my_string.upper() if to_upper else my_string.lower()\n",
    "\n",
    "print(vowel_count(\"Ciao sono Lolloo\"))\n",
    "print(is_palindrome(\"natan\"))\n",
    "print(transform_string(\"cHange ME\", False))"
   ]
  },
  {
   "cell_type": "markdown",
   "id": "c9b84acc-0820-455c-8ca5-3208908ff49a",
   "metadata": {},
   "source": [
    "**Dizionari:**\n",
    "\n",
    "Crea un dizionario che contenga alcune parole italiane e le loro traduzioni in inglese. Scrivi un programma che chieda all'utente una parola italiana e restituisca la sua traduzione inglese, oppure un messaggio se la parola non è presente nel dizionario.\n",
    "\n",
    "\n",
    "Scrivi una funzione che prenda in input un dizionario e una chiave, e restituisca True se la chiave è presente nel dizionario, False altrimenti.\n",
    "\n"
   ]
  },
  {
   "cell_type": "code",
   "execution_count": 38,
   "id": "6ca56632",
   "metadata": {},
   "outputs": [
    {
     "name": "stdout",
     "output_type": "stream",
     "text": [
      "Oops-a-daisy\n",
      "Not in dictionary!\n"
     ]
    }
   ],
   "source": [
    "bilingual_dictionary = {\n",
    "    \"Mela\": \"Apple\",\n",
    "    \"Cane\": \"Dog\",\n",
    "    \"Perbacco\": \"Oops-a-daisy\"\n",
    "}\n",
    "\n",
    "def get_translation(word: str):\n",
    "    return bilingual_dictionary[word] if in_dictionary(word) else \"Not in dictionary!\"\n",
    "\n",
    "def in_dictionary(word: str):\n",
    "    return word in bilingual_dictionary\n",
    "\n",
    "print(get_translation(\"Perbacco\"))\n",
    "print(get_translation(\"Porca miseria\"))"
   ]
  },
  {
   "cell_type": "markdown",
   "id": "c1dd66ca-a61e-41b9-b6a7-b6b49387bac4",
   "metadata": {},
   "source": [
    "**Cicli for:**\n",
    "\n",
    "Scrivi un programma che stampa i numeri da 1 a 10 usando un ciclo for.\n",
    "\n",
    "Crea una funzione che calcola la somma dei numeri in una lista usando un ciclo for.\n",
    "\n",
    "Scrivi un programma che stampa una tabella di moltiplicazione (ad esempio, da 1 a 10) usando cicli for annidati.\n"
   ]
  },
  {
   "cell_type": "code",
   "execution_count": null,
   "id": "e328b2f4",
   "metadata": {},
   "outputs": [
    {
     "name": "stdout",
     "output_type": "stream",
     "text": [
      "1\n",
      "2\n",
      "3\n",
      "4\n",
      "5\n",
      "6\n",
      "7\n",
      "8\n",
      "9\n",
      "10\n",
      "1 x 1 = 1\t1 x 2 = 2\t1 x 3 = 3\t1 x 4 = 4\t1 x 5 = 5\t1 x 6 = 6\t1 x 7 = 7\t1 x 8 = 8\t1 x 9 = 9\t1 x 10 = 10\t\n",
      "2 x 1 = 2\t2 x 2 = 4\t2 x 3 = 6\t2 x 4 = 8\t2 x 5 = 10\t2 x 6 = 12\t2 x 7 = 14\t2 x 8 = 16\t2 x 9 = 18\t2 x 10 = 20\t\n",
      "3 x 1 = 3\t3 x 2 = 6\t3 x 3 = 9\t3 x 4 = 12\t3 x 5 = 15\t3 x 6 = 18\t3 x 7 = 21\t3 x 8 = 24\t3 x 9 = 27\t3 x 10 = 30\t\n",
      "4 x 1 = 4\t4 x 2 = 8\t4 x 3 = 12\t4 x 4 = 16\t4 x 5 = 20\t4 x 6 = 24\t4 x 7 = 28\t4 x 8 = 32\t4 x 9 = 36\t4 x 10 = 40\t\n",
      "5 x 1 = 5\t5 x 2 = 10\t5 x 3 = 15\t5 x 4 = 20\t5 x 5 = 25\t5 x 6 = 30\t5 x 7 = 35\t5 x 8 = 40\t5 x 9 = 45\t5 x 10 = 50\t\n",
      "6 x 1 = 6\t6 x 2 = 12\t6 x 3 = 18\t6 x 4 = 24\t6 x 5 = 30\t6 x 6 = 36\t6 x 7 = 42\t6 x 8 = 48\t6 x 9 = 54\t6 x 10 = 60\t\n",
      "7 x 1 = 7\t7 x 2 = 14\t7 x 3 = 21\t7 x 4 = 28\t7 x 5 = 35\t7 x 6 = 42\t7 x 7 = 49\t7 x 8 = 56\t7 x 9 = 63\t7 x 10 = 70\t\n",
      "8 x 1 = 8\t8 x 2 = 16\t8 x 3 = 24\t8 x 4 = 32\t8 x 5 = 40\t8 x 6 = 48\t8 x 7 = 56\t8 x 8 = 64\t8 x 9 = 72\t8 x 10 = 80\t\n",
      "9 x 1 = 9\t9 x 2 = 18\t9 x 3 = 27\t9 x 4 = 36\t9 x 5 = 45\t9 x 6 = 54\t9 x 7 = 63\t9 x 8 = 72\t9 x 9 = 81\t9 x 10 = 90\t\n",
      "10 x 1 = 10\t10 x 2 = 20\t10 x 3 = 30\t10 x 4 = 40\t10 x 5 = 50\t10 x 6 = 60\t10 x 7 = 70\t10 x 8 = 80\t10 x 9 = 90\t10 x 10 = 100\t\n"
     ]
    }
   ],
   "source": [
    "numbers = range(1,11)\n",
    "\n",
    "def print_numbers(nrs):\n",
    "    for num in nrs:\n",
    "        print(num)\n",
    "\n",
    "def calculate_sum(nrs):\n",
    "    sum = 0\n",
    "    for num in nrs:\n",
    "        sum += num\n",
    "    return sum\n",
    "\n",
    "def print_multiplication_table(nrs):\n",
    "    for n1 in nrs:\n",
    "        for n2 in nrs:\n",
    "            print(f\"{n1} x {n2} = {n1*n2}\", end=\"\\t\")\n",
    "        print()\n",
    "\n",
    "print_numbers(numbers)\n",
    "calculate_sum(numbers)\n",
    "print_multiplication_table(numbers)"
   ]
  },
  {
   "cell_type": "markdown",
   "id": "9ac6c2c6-431c-45f9-8962-8e4301422c46",
   "metadata": {},
   "source": [
    "**Cicli while:**\n",
    "\n",
    "\n",
    "Crea una funzione che calcola il fattoriale di un numero usando un ciclo while.\n",
    "\n",
    "Scrivi un programma che stampa i numeri pari da 0 a 100 usando un ciclo while.\n"
   ]
  },
  {
   "cell_type": "code",
   "execution_count": 28,
   "id": "5feca2b9",
   "metadata": {},
   "outputs": [
    {
     "name": "stdout",
     "output_type": "stream",
     "text": [
      "24\n",
      "0\n",
      "2\n",
      "4\n",
      "6\n",
      "8\n",
      "10\n",
      "12\n",
      "14\n",
      "16\n",
      "18\n",
      "20\n",
      "22\n",
      "24\n",
      "26\n",
      "28\n",
      "30\n",
      "32\n",
      "34\n",
      "36\n",
      "38\n",
      "40\n",
      "42\n",
      "44\n",
      "46\n",
      "48\n",
      "50\n",
      "52\n",
      "54\n",
      "56\n",
      "58\n",
      "60\n",
      "62\n",
      "64\n",
      "66\n",
      "68\n",
      "70\n",
      "72\n",
      "74\n",
      "76\n",
      "78\n",
      "80\n",
      "82\n",
      "84\n",
      "86\n",
      "88\n",
      "90\n",
      "92\n",
      "94\n",
      "96\n",
      "98\n",
      "100\n"
     ]
    }
   ],
   "source": [
    "def factorial(n):\n",
    "    res, current_n = 1, n\n",
    "    while (current_n > 1):\n",
    "        res *= current_n\n",
    "        current_n -= 1\n",
    "    return res\n",
    "\n",
    "def print_even():\n",
    "    num = 0\n",
    "    while (num <= 100):\n",
    "        print(num)\n",
    "        num += 2\n",
    "\n",
    "print(factorial(4))\n",
    "print_even()"
   ]
  },
  {
   "cell_type": "markdown",
   "id": "0af7c6c7-68c3-448a-a297-76fa2875130a",
   "metadata": {},
   "source": [
    "**List comprehension:**\n",
    "\n",
    "Usa una list comprehension per creare una nuova lista contenente i quadrati dei numeri da 1 a 10.\n",
    "\n",
    "Usa una list comprehension per filtrare una lista di stringhe e ottenere solo quelle che iniziano con una determinata lettera.\n",
    "\n",
    "Usa una list comprehension per creare un dizionario dove le chiavi sono i numeri da 1 a 5 e i valori sono i loro quadrati.\n"
   ]
  },
  {
   "cell_type": "code",
   "execution_count": 29,
   "id": "a323c9fd",
   "metadata": {},
   "outputs": [
    {
     "name": "stdout",
     "output_type": "stream",
     "text": [
      "[1, 4, 9, 16, 25, 36, 49, 64, 81, 100]\n",
      "['Apple', 'Andrea', 'Amicone']\n",
      "{1: 1, 2: 4, 3: 9, 4: 16, 5: 25}\n"
     ]
    }
   ],
   "source": [
    "squares = [ x**2 for x in range(1, 11) ]\n",
    "\n",
    "def filter_words_starting_with(letter: str, words: list[str]):\n",
    "    return [ string for string in words if string.startswith(letter) ]\n",
    "\n",
    "dictionary = { key: key**2 for key in range(1, 6) }\n",
    "\n",
    "\n",
    "print(squares)\n",
    "print(filter_words_starting_with(\"A\", [ \"Apple\", \"Mac\", \"Medical\", \"Burbero\", \"Andrea\", \"Amicone\" ]))\n",
    "print(dictionary)"
   ]
  },
  {
   "cell_type": "markdown",
   "id": "4866ecae-6286-4d11-97ed-dccc4a6ef325",
   "metadata": {},
   "source": [
    "**If, else, elif:**\n",
    "\n",
    "Scrivi una funzione che determina se un numero è positivo, negativo o zero.\n",
    "\n",
    "Scrivi un programma che calcola il prezzo di un biglietto del cinema in base all'eta"
   ]
  },
  {
   "cell_type": "code",
   "execution_count": 30,
   "id": "800af3a6",
   "metadata": {},
   "outputs": [
    {
     "name": "stdout",
     "output_type": "stream",
     "text": [
      "4 is positive\n",
      "-5 is negative\n",
      "0 is zero\n",
      "8.5\n"
     ]
    }
   ],
   "source": [
    "def determine_sign(nr: int):\n",
    "    out = f\"{nr} is \"\n",
    "    if nr > 0:\n",
    "        out += \"positive\"\n",
    "    elif nr < 0:\n",
    "        out += \"negative\"\n",
    "    else:\n",
    "        out += \"zero\"\n",
    "    return out\n",
    "\n",
    "def get_ticket_price_for(age: int):\n",
    "    if (age < 8):\n",
    "        return 4.50\n",
    "    if (age in range(9, 15)):\n",
    "        return 8.50\n",
    "    if (age in range(16, 27)):\n",
    "        return 10.00\n",
    "    return 15.00\n",
    "\n",
    "print(determine_sign(4))\n",
    "print(determine_sign(-5))\n",
    "print(determine_sign(0))\n",
    "print(get_ticket_price_for(10))"
   ]
  },
  {
   "cell_type": "markdown",
   "id": "840b7e68-db5a-4919-bfce-54ad348ce17d",
   "metadata": {},
   "source": [
    "**Matchcase**"
   ]
  },
  {
   "cell_type": "markdown",
   "id": "9f329943-6fc4-429a-91c4-1d1210b0eff2",
   "metadata": {},
   "source": [
    "Scrivi una funzione che prenda in input un numero intero compreso tra 0 e 5 e restituisca la sua rappresentazione in parole (zero, uno, due, tre, quattro, cinque). Utilizza match/case per implementare la logica."
   ]
  },
  {
   "cell_type": "code",
   "execution_count": 31,
   "id": "1cd2be24-835f-47d2-9c22-6c4780d40a30",
   "metadata": {},
   "outputs": [
    {
     "name": "stdout",
     "output_type": "stream",
     "text": [
      "uno\n",
      "quattro\n"
     ]
    },
    {
     "ename": "ValueError",
     "evalue": "mizzica",
     "output_type": "error",
     "traceback": [
      "\u001b[31m---------------------------------------------------------------------------\u001b[39m",
      "\u001b[31mValueError\u001b[39m                                Traceback (most recent call last)",
      "\u001b[36mCell\u001b[39m\u001b[36m \u001b[39m\u001b[32mIn[31]\u001b[39m\u001b[32m, line 20\u001b[39m\n\u001b[32m     18\u001b[39m \u001b[38;5;28mprint\u001b[39m(number_to_string(\u001b[32m1\u001b[39m))\n\u001b[32m     19\u001b[39m \u001b[38;5;28mprint\u001b[39m(number_to_string(\u001b[32m4\u001b[39m))\n\u001b[32m---> \u001b[39m\u001b[32m20\u001b[39m \u001b[38;5;28mprint\u001b[39m(\u001b[43mnumber_to_string\u001b[49m\u001b[43m(\u001b[49m\u001b[32;43m10\u001b[39;49m\u001b[43m)\u001b[49m)\n",
      "\u001b[36mCell\u001b[39m\u001b[36m \u001b[39m\u001b[32mIn[31]\u001b[39m\u001b[32m, line 16\u001b[39m, in \u001b[36mnumber_to_string\u001b[39m\u001b[34m(nr)\u001b[39m\n\u001b[32m     14\u001b[39m     \u001b[38;5;28;01mreturn\u001b[39;00m \u001b[33m\"\u001b[39m\u001b[33mcinque\u001b[39m\u001b[33m\"\u001b[39m\n\u001b[32m     15\u001b[39m \u001b[38;5;28;01mcase\u001b[39;00m other:\n\u001b[32m---> \u001b[39m\u001b[32m16\u001b[39m     \u001b[38;5;28;01mraise\u001b[39;00m \u001b[38;5;167;01mValueError\u001b[39;00m(\u001b[33m\"\u001b[39m\u001b[33mmizzica\u001b[39m\u001b[33m\"\u001b[39m)\n",
      "\u001b[31mValueError\u001b[39m: mizzica"
     ]
    }
   ],
   "source": [
    "def number_to_string(nr: int):\n",
    "    match nr:\n",
    "        case 0:\n",
    "            return \"zero\"\n",
    "        case 1:\n",
    "            return \"uno\"\n",
    "        case 2:\n",
    "            return \"due\"\n",
    "        case 3:\n",
    "            return \"tre\"\n",
    "        case 4:\n",
    "            return \"quattro\"\n",
    "        case 5:\n",
    "            return \"cinque\"\n",
    "        case other:\n",
    "            raise ValueError(\"mizzica\")\n",
    "        \n",
    "print(number_to_string(1))\n",
    "print(number_to_string(4))\n",
    "print(number_to_string(10))"
   ]
  }
 ],
 "metadata": {
  "kernelspec": {
   "display_name": ".venv",
   "language": "python",
   "name": "python3"
  },
  "language_info": {
   "codemirror_mode": {
    "name": "ipython",
    "version": 3
   },
   "file_extension": ".py",
   "mimetype": "text/x-python",
   "name": "python",
   "nbconvert_exporter": "python",
   "pygments_lexer": "ipython3",
   "version": "3.12.0"
  }
 },
 "nbformat": 4,
 "nbformat_minor": 5
}
